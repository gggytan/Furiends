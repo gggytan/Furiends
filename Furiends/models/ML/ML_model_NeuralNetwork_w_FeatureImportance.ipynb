{
 "cells": [
  {
   "cell_type": "code",
   "execution_count": 1,
   "metadata": {
    "id": "kZycVI0HWqUY"
   },
   "outputs": [
    {
     "name": "stderr",
     "output_type": "stream",
     "text": [
      "Using TensorFlow backend.\n"
     ]
    }
   ],
   "source": [
    "# import libraries\n",
    "import numpy as np\n",
    "import pandas as pd\n",
    "import os\n",
    "import torch\n",
    "import torch.nn as nn\n",
    "import torch.nn.functional as F\n",
    "#from geopy.geocoders import Nominatim\n",
    "#from translate import Translator\n",
    "import seaborn as sns\n",
    "#from pycountry_convert import country_alpha2_to_continent_code, country_name_to_country_alpha2\n",
    "from sklearn.ensemble import RandomForestRegressor\n",
    "from sklearn.metrics import mean_squared_error\n",
    "from sklearn.svm import LinearSVC\n",
    "from sklearn.model_selection import train_test_split\n",
    "import matplotlib.pyplot as plt\n",
    "from sklearn import preprocessing\n",
    "from keras.models import Sequential\n",
    "from keras.layers import Dense\n",
    "import tensorflow as tf"
   ]
  },
  {
   "cell_type": "code",
   "execution_count": 2,
   "metadata": {},
   "outputs": [],
   "source": [
    "root_path = \"/Users/vivian/Desktop/Furiends/Furiends/data/raw/Fake Data2\""
   ]
  },
  {
   "cell_type": "code",
   "execution_count": 3,
   "metadata": {
    "scrolled": true
   },
   "outputs": [
    {
     "data": {
      "text/plain": [
       "['whole11.csv',\n",
       " 'fulldb-09-03-2023-23-04-beta.sql',\n",
       " 'frequency&duration_activity.csv',\n",
       " 'bigT2.csv',\n",
       " 'bigT3.csv',\n",
       " 'data_with_satisfication.csv',\n",
       " 'freq&dura per user per act_category.sql',\n",
       " 'bigT.sql']"
      ]
     },
     "execution_count": 3,
     "metadata": {},
     "output_type": "execute_result"
    }
   ],
   "source": [
    "# View all the files in the data folder; \n",
    "os.listdir(root_path)"
   ]
  },
  {
   "cell_type": "markdown",
   "metadata": {},
   "source": [
    "## Data Loading"
   ]
  },
  {
   "cell_type": "code",
   "execution_count": 4,
   "metadata": {
    "scrolled": true
   },
   "outputs": [
    {
     "data": {
      "text/html": [
       "<div>\n",
       "<style scoped>\n",
       "    .dataframe tbody tr th:only-of-type {\n",
       "        vertical-align: middle;\n",
       "    }\n",
       "\n",
       "    .dataframe tbody tr th {\n",
       "        vertical-align: top;\n",
       "    }\n",
       "\n",
       "    .dataframe thead th {\n",
       "        text-align: right;\n",
       "    }\n",
       "</style>\n",
       "<table border=\"1\" class=\"dataframe\">\n",
       "  <thead>\n",
       "    <tr style=\"text-align: right;\">\n",
       "      <th></th>\n",
       "      <th>User_id</th>\n",
       "      <th>First_Name</th>\n",
       "      <th>Last_Name</th>\n",
       "      <th>Address</th>\n",
       "      <th>Age</th>\n",
       "      <th>Gender</th>\n",
       "      <th>Rehabilitation</th>\n",
       "      <th>Pet_intimacy</th>\n",
       "      <th>category_name</th>\n",
       "      <th>Pet_Name</th>\n",
       "      <th>log_count</th>\n",
       "      <th>com_count</th>\n",
       "      <th>avg_loading</th>\n",
       "      <th>sum_duration</th>\n",
       "      <th>Zipcode</th>\n",
       "      <th>Country</th>\n",
       "      <th>Country_abbrev</th>\n",
       "      <th>Continent</th>\n",
       "      <th>User_satisfication</th>\n",
       "    </tr>\n",
       "  </thead>\n",
       "  <tbody>\n",
       "    <tr>\n",
       "      <th>0</th>\n",
       "      <td>1</td>\n",
       "      <td>Jane</td>\n",
       "      <td>Bruen</td>\n",
       "      <td>5272 Adela Overpass Suite 982\\nRozellachester,...</td>\n",
       "      <td>28</td>\n",
       "      <td>1</td>\n",
       "      <td>2</td>\n",
       "      <td>0.414141</td>\n",
       "      <td>'Maltese'</td>\n",
       "      <td>Barney</td>\n",
       "      <td>0.333333</td>\n",
       "      <td>0.333333</td>\n",
       "      <td>0.526948</td>\n",
       "      <td>0.268787</td>\n",
       "      <td>14374</td>\n",
       "      <td>United States</td>\n",
       "      <td>US</td>\n",
       "      <td>NaN</td>\n",
       "      <td>3.516239</td>\n",
       "    </tr>\n",
       "    <tr>\n",
       "      <th>1</th>\n",
       "      <td>2</td>\n",
       "      <td>Eliseo</td>\n",
       "      <td>Trantow</td>\n",
       "      <td>2506 Mertz Inlet\\nSouth Ezekielshire, OK 56215</td>\n",
       "      <td>12</td>\n",
       "      <td>1</td>\n",
       "      <td>1</td>\n",
       "      <td>0.111111</td>\n",
       "      <td>'Golden Retriever'</td>\n",
       "      <td>Juliana</td>\n",
       "      <td>0.000000</td>\n",
       "      <td>0.083333</td>\n",
       "      <td>1.000000</td>\n",
       "      <td>0.003579</td>\n",
       "      <td>56215</td>\n",
       "      <td>South Korea</td>\n",
       "      <td>KR</td>\n",
       "      <td>AS</td>\n",
       "      <td>3.708759</td>\n",
       "    </tr>\n",
       "    <tr>\n",
       "      <th>2</th>\n",
       "      <td>3</td>\n",
       "      <td>Oceane</td>\n",
       "      <td>Walter</td>\n",
       "      <td>9469 Frank Orchard Apt. 685\\nLake Irmastad, ID...</td>\n",
       "      <td>64</td>\n",
       "      <td>1</td>\n",
       "      <td>2</td>\n",
       "      <td>0.909091</td>\n",
       "      <td>'Bulldog'</td>\n",
       "      <td>Sabrina</td>\n",
       "      <td>0.500000</td>\n",
       "      <td>0.166667</td>\n",
       "      <td>0.526618</td>\n",
       "      <td>0.225447</td>\n",
       "      <td>72714</td>\n",
       "      <td>United States</td>\n",
       "      <td>US</td>\n",
       "      <td>NaN</td>\n",
       "      <td>4.004165</td>\n",
       "    </tr>\n",
       "    <tr>\n",
       "      <th>3</th>\n",
       "      <td>4</td>\n",
       "      <td>Zack</td>\n",
       "      <td>Marvin</td>\n",
       "      <td>982 Susan Manors\\nPort Amiya, UT 97043-2723</td>\n",
       "      <td>38</td>\n",
       "      <td>1</td>\n",
       "      <td>1</td>\n",
       "      <td>0.858586</td>\n",
       "      <td>'German Shepherd'</td>\n",
       "      <td>Yasmine</td>\n",
       "      <td>0.666667</td>\n",
       "      <td>0.583333</td>\n",
       "      <td>0.550415</td>\n",
       "      <td>0.831412</td>\n",
       "      <td>97043</td>\n",
       "      <td>Ukraine</td>\n",
       "      <td>UA</td>\n",
       "      <td>EU</td>\n",
       "      <td>9.151314</td>\n",
       "    </tr>\n",
       "    <tr>\n",
       "      <th>4</th>\n",
       "      <td>5</td>\n",
       "      <td>Marco</td>\n",
       "      <td>Kessler</td>\n",
       "      <td>671 Troy Isle Suite 459\\nNew Carriemouth, OK 6...</td>\n",
       "      <td>28</td>\n",
       "      <td>1</td>\n",
       "      <td>1</td>\n",
       "      <td>0.181818</td>\n",
       "      <td>'German Shepherd'</td>\n",
       "      <td>Cristopher</td>\n",
       "      <td>0.250000</td>\n",
       "      <td>0.500000</td>\n",
       "      <td>0.821139</td>\n",
       "      <td>0.045328</td>\n",
       "      <td>61216</td>\n",
       "      <td>South Korea</td>\n",
       "      <td>KR</td>\n",
       "      <td>AS</td>\n",
       "      <td>4.684270</td>\n",
       "    </tr>\n",
       "    <tr>\n",
       "      <th>...</th>\n",
       "      <td>...</td>\n",
       "      <td>...</td>\n",
       "      <td>...</td>\n",
       "      <td>...</td>\n",
       "      <td>...</td>\n",
       "      <td>...</td>\n",
       "      <td>...</td>\n",
       "      <td>...</td>\n",
       "      <td>...</td>\n",
       "      <td>...</td>\n",
       "      <td>...</td>\n",
       "      <td>...</td>\n",
       "      <td>...</td>\n",
       "      <td>...</td>\n",
       "      <td>...</td>\n",
       "      <td>...</td>\n",
       "      <td>...</td>\n",
       "      <td>...</td>\n",
       "      <td>...</td>\n",
       "    </tr>\n",
       "    <tr>\n",
       "      <th>570</th>\n",
       "      <td>596</td>\n",
       "      <td>Ethan</td>\n",
       "      <td>Schuppe</td>\n",
       "      <td>17224 Koelpin Rest\\nTheresiashire, GA 69914</td>\n",
       "      <td>79</td>\n",
       "      <td>2</td>\n",
       "      <td>1</td>\n",
       "      <td>0.818182</td>\n",
       "      <td>'Bulldog'</td>\n",
       "      <td>Filomena</td>\n",
       "      <td>0.250000</td>\n",
       "      <td>0.333333</td>\n",
       "      <td>0.396222</td>\n",
       "      <td>0.306561</td>\n",
       "      <td>69914</td>\n",
       "      <td>Brazil</td>\n",
       "      <td>BR</td>\n",
       "      <td>SA</td>\n",
       "      <td>5.773980</td>\n",
       "    </tr>\n",
       "    <tr>\n",
       "      <th>571</th>\n",
       "      <td>597</td>\n",
       "      <td>Austin</td>\n",
       "      <td>Legros</td>\n",
       "      <td>476 Veda View\\nGroverfurt, AK 15766-2282</td>\n",
       "      <td>80</td>\n",
       "      <td>1</td>\n",
       "      <td>2</td>\n",
       "      <td>0.909091</td>\n",
       "      <td>'Shi-ba-inu'</td>\n",
       "      <td>Herta</td>\n",
       "      <td>0.166667</td>\n",
       "      <td>0.500000</td>\n",
       "      <td>0.425255</td>\n",
       "      <td>0.201590</td>\n",
       "      <td>15766</td>\n",
       "      <td>Brazil</td>\n",
       "      <td>BR</td>\n",
       "      <td>SA</td>\n",
       "      <td>3.474042</td>\n",
       "    </tr>\n",
       "    <tr>\n",
       "      <th>572</th>\n",
       "      <td>598</td>\n",
       "      <td>Ilene</td>\n",
       "      <td>Dietrich</td>\n",
       "      <td>934 Josianne Inlet\\nLavonnechester, AZ 30057-6787</td>\n",
       "      <td>74</td>\n",
       "      <td>1</td>\n",
       "      <td>2</td>\n",
       "      <td>0.272727</td>\n",
       "      <td>'Poodle'</td>\n",
       "      <td>Lamont</td>\n",
       "      <td>0.083333</td>\n",
       "      <td>0.333333</td>\n",
       "      <td>0.215269</td>\n",
       "      <td>0.004374</td>\n",
       "      <td>30057</td>\n",
       "      <td>Taiwan</td>\n",
       "      <td>TW</td>\n",
       "      <td>AS</td>\n",
       "      <td>1.505491</td>\n",
       "    </tr>\n",
       "    <tr>\n",
       "      <th>573</th>\n",
       "      <td>599</td>\n",
       "      <td>Novella</td>\n",
       "      <td>Becker</td>\n",
       "      <td>76281 Germaine Valley\\nBoscobury, DE 99069-3814</td>\n",
       "      <td>29</td>\n",
       "      <td>2</td>\n",
       "      <td>2</td>\n",
       "      <td>0.090909</td>\n",
       "      <td>'Golden Retriever'</td>\n",
       "      <td>Wendy</td>\n",
       "      <td>0.500000</td>\n",
       "      <td>0.166667</td>\n",
       "      <td>0.427905</td>\n",
       "      <td>0.757455</td>\n",
       "      <td>99069</td>\n",
       "      <td>United States</td>\n",
       "      <td>US</td>\n",
       "      <td>NaN</td>\n",
       "      <td>5.215302</td>\n",
       "    </tr>\n",
       "    <tr>\n",
       "      <th>574</th>\n",
       "      <td>600</td>\n",
       "      <td>Rodrick</td>\n",
       "      <td>Pacocha</td>\n",
       "      <td>840 Pfeffer Club\\nEast Amiya, MO 28324</td>\n",
       "      <td>25</td>\n",
       "      <td>1</td>\n",
       "      <td>2</td>\n",
       "      <td>0.757576</td>\n",
       "      <td>'Maltese'</td>\n",
       "      <td>Alia</td>\n",
       "      <td>0.333333</td>\n",
       "      <td>0.333333</td>\n",
       "      <td>0.378318</td>\n",
       "      <td>0.289861</td>\n",
       "      <td>28324</td>\n",
       "      <td>Ukraine</td>\n",
       "      <td>UA</td>\n",
       "      <td>EU</td>\n",
       "      <td>3.795337</td>\n",
       "    </tr>\n",
       "  </tbody>\n",
       "</table>\n",
       "<p>575 rows × 19 columns</p>\n",
       "</div>"
      ],
      "text/plain": [
       "     User_id First_Name Last_Name  \\\n",
       "0          1       Jane     Bruen   \n",
       "1          2     Eliseo   Trantow   \n",
       "2          3     Oceane    Walter   \n",
       "3          4       Zack    Marvin   \n",
       "4          5      Marco   Kessler   \n",
       "..       ...        ...       ...   \n",
       "570      596      Ethan   Schuppe   \n",
       "571      597     Austin    Legros   \n",
       "572      598      Ilene  Dietrich   \n",
       "573      599    Novella    Becker   \n",
       "574      600    Rodrick   Pacocha   \n",
       "\n",
       "                                               Address  Age  Gender  \\\n",
       "0    5272 Adela Overpass Suite 982\\nRozellachester,...   28       1   \n",
       "1       2506 Mertz Inlet\\nSouth Ezekielshire, OK 56215   12       1   \n",
       "2    9469 Frank Orchard Apt. 685\\nLake Irmastad, ID...   64       1   \n",
       "3          982 Susan Manors\\nPort Amiya, UT 97043-2723   38       1   \n",
       "4    671 Troy Isle Suite 459\\nNew Carriemouth, OK 6...   28       1   \n",
       "..                                                 ...  ...     ...   \n",
       "570        17224 Koelpin Rest\\nTheresiashire, GA 69914   79       2   \n",
       "571           476 Veda View\\nGroverfurt, AK 15766-2282   80       1   \n",
       "572  934 Josianne Inlet\\nLavonnechester, AZ 30057-6787   74       1   \n",
       "573    76281 Germaine Valley\\nBoscobury, DE 99069-3814   29       2   \n",
       "574             840 Pfeffer Club\\nEast Amiya, MO 28324   25       1   \n",
       "\n",
       "     Rehabilitation  Pet_intimacy       category_name    Pet_Name  log_count  \\\n",
       "0                 2      0.414141           'Maltese'      Barney   0.333333   \n",
       "1                 1      0.111111  'Golden Retriever'     Juliana   0.000000   \n",
       "2                 2      0.909091           'Bulldog'     Sabrina   0.500000   \n",
       "3                 1      0.858586   'German Shepherd'     Yasmine   0.666667   \n",
       "4                 1      0.181818   'German Shepherd'  Cristopher   0.250000   \n",
       "..              ...           ...                 ...         ...        ...   \n",
       "570               1      0.818182           'Bulldog'    Filomena   0.250000   \n",
       "571               2      0.909091        'Shi-ba-inu'       Herta   0.166667   \n",
       "572               2      0.272727            'Poodle'      Lamont   0.083333   \n",
       "573               2      0.090909  'Golden Retriever'       Wendy   0.500000   \n",
       "574               2      0.757576           'Maltese'        Alia   0.333333   \n",
       "\n",
       "     com_count  avg_loading  sum_duration  Zipcode         Country  \\\n",
       "0     0.333333     0.526948      0.268787    14374   United States   \n",
       "1     0.083333     1.000000      0.003579    56215     South Korea   \n",
       "2     0.166667     0.526618      0.225447    72714   United States   \n",
       "3     0.583333     0.550415      0.831412    97043         Ukraine   \n",
       "4     0.500000     0.821139      0.045328    61216     South Korea   \n",
       "..         ...          ...           ...      ...             ...   \n",
       "570   0.333333     0.396222      0.306561    69914          Brazil   \n",
       "571   0.500000     0.425255      0.201590    15766          Brazil   \n",
       "572   0.333333     0.215269      0.004374    30057          Taiwan   \n",
       "573   0.166667     0.427905      0.757455    99069   United States   \n",
       "574   0.333333     0.378318      0.289861    28324         Ukraine   \n",
       "\n",
       "    Country_abbrev Continent  User_satisfication  \n",
       "0               US       NaN            3.516239  \n",
       "1               KR        AS            3.708759  \n",
       "2               US       NaN            4.004165  \n",
       "3               UA        EU            9.151314  \n",
       "4               KR        AS            4.684270  \n",
       "..             ...       ...                 ...  \n",
       "570             BR        SA            5.773980  \n",
       "571             BR        SA            3.474042  \n",
       "572             TW        AS            1.505491  \n",
       "573             US       NaN            5.215302  \n",
       "574             UA        EU            3.795337  \n",
       "\n",
       "[575 rows x 19 columns]"
      ]
     },
     "execution_count": 4,
     "metadata": {},
     "output_type": "execute_result"
    }
   ],
   "source": [
    "data = pd.read_csv(os.path.join(root_path, 'data_with_satisfication.csv')).drop([\"Unnamed: 0\"], axis=1)\n",
    "data"
   ]
  },
  {
   "cell_type": "code",
   "execution_count": 5,
   "metadata": {
    "scrolled": true
   },
   "outputs": [
    {
     "data": {
      "text/plain": [
       "count    575.000000\n",
       "mean       4.772740\n",
       "std        1.406016\n",
       "min        1.296136\n",
       "25%        3.776412\n",
       "50%        4.841757\n",
       "75%        5.711057\n",
       "max        9.151314\n",
       "Name: User_satisfication, dtype: float64"
      ]
     },
     "execution_count": 5,
     "metadata": {},
     "output_type": "execute_result"
    }
   ],
   "source": [
    "data[\"User_satisfication\"].describe()"
   ]
  },
  {
   "cell_type": "code",
   "execution_count": 6,
   "metadata": {},
   "outputs": [
    {
     "data": {
      "text/plain": [
       "<seaborn.axisgrid.FacetGrid at 0x7fe892724550>"
      ]
     },
     "execution_count": 6,
     "metadata": {},
     "output_type": "execute_result"
    },
    {
     "data": {
      "image/png": "[encoded data removed]",
      "text/plain": [
       "<Figure size 360x360 with 1 Axes>"
      ]
     },
     "metadata": {
      "needs_background": "light"
     },
     "output_type": "display_data"
    }
   ],
   "source": [
    "sns.displot(data, x=\"User_satisfication\").set(title=\"User Satisfication Distribution\")"
   ]
  },
  {
   "cell_type": "code",
   "execution_count": 7,
   "metadata": {},
   "outputs": [
    {
     "data": {
      "text/plain": [
       "(575, 19)"
      ]
     },
     "execution_count": 7,
     "metadata": {},
     "output_type": "execute_result"
    }
   ],
   "source": [
    "data.shape"
   ]
  },
  {
   "cell_type": "code",
   "execution_count": 8,
   "metadata": {},
   "outputs": [],
   "source": [
    "data[\"category_name\"] = data[\"category_name\"].replace({\"'Bulldog'\": 1,\n",
    "                                                      \"'Maltese'\": 2,\n",
    "                                                      \"'Poodle'\": 3,\n",
    "                                                      \"'German Shepherd'\": 4,\n",
    "                                                      \"'Golden Retriever'\": 5,\n",
    "                                                      \"'Shi-ba-inu'\": 6})\n"
   ]
  },
  {
   "cell_type": "code",
   "execution_count": 9,
   "metadata": {},
   "outputs": [],
   "source": [
    "X = data[[\"Age\", \"Gender\", \"Rehabilitation\", \"Pet_intimacy\", \"log_count\", \"com_count\", \"avg_loading\", \"category_name\", \"sum_duration\"]].values\n",
    "Y = data[[\"User_satisfication\"]].values"
   ]
  },
  {
   "cell_type": "code",
   "execution_count": 10,
   "metadata": {
    "scrolled": true
   },
   "outputs": [
    {
     "data": {
      "text/plain": [
       "array([[0.15181218, 0.        , 0.74008437, ..., 0.38998629, 0.14801687,\n",
       "        0.19892526],\n",
       "       [0.        , 0.        , 0.        , ..., 0.77631354, 0.62105083,\n",
       "        0.00277806],\n",
       "       [0.39305406, 0.        , 0.58958109, ..., 0.310484  , 0.        ,\n",
       "        0.13291947],\n",
       "       ...,\n",
       "       [0.55780589, 0.        , 0.7017558 , ..., 0.15106637, 0.28070232,\n",
       "        0.00306931],\n",
       "       [0.11284374, 0.51775365, 0.51775365, ..., 0.22154939, 0.41420292,\n",
       "        0.39217523],\n",
       "       [0.11525639, 0.        , 0.69153831, ..., 0.26162144, 0.13830766,\n",
       "        0.20044987]])"
      ]
     },
     "execution_count": 10,
     "metadata": {},
     "output_type": "execute_result"
    }
   ],
   "source": [
    "min_max_scaler = preprocessing.MinMaxScaler()\n",
    "X_scale = min_max_scaler.fit_transform(X)\n",
    "X_normal = preprocessing.normalize(X_scale)\n",
    "X_normal"
   ]
  },
  {
   "cell_type": "code",
   "execution_count": 11,
   "metadata": {},
   "outputs": [],
   "source": [
    "X_train, X_test_val, Y_train, Y_test_val = train_test_split(X_normal, Y, test_size=0.3)"
   ]
  },
  {
   "cell_type": "code",
   "execution_count": 12,
   "metadata": {},
   "outputs": [],
   "source": [
    "X_val, X_test, Y_val, Y_test = train_test_split(X_test_val, Y_test_val, test_size=0.5)"
   ]
  },
  {
   "cell_type": "code",
   "execution_count": 13,
   "metadata": {},
   "outputs": [
    {
     "name": "stdout",
     "output_type": "stream",
     "text": [
      "Train size:  402 \n",
      "Validation size:  86 \n",
      "Test size:  87\n"
     ]
    }
   ],
   "source": [
    "print(\"Train size: \", X_train.shape[0], \"\\nValidation size: \", X_val.shape[0], \"\\nTest size: \", X_test.shape[0])"
   ]
  },
  {
   "cell_type": "code",
   "execution_count": 15,
   "metadata": {
    "scrolled": false
   },
   "outputs": [],
   "source": [
    "# There are 9 columns in the X data, meaning we are using 8 features to make predictions\n",
    "# We would build a neural network with two hidden layers of size 32 and output a single predicted value of y(the satisfication level)\n",
    "# website to draw nn archetecture: http://alexlenail.me/NN-SVG/index.html\n",
    "nn_model = Sequential([\n",
    "    Dense(32, activation=\"relu\", input_shape=(9,)),\n",
    "    Dense(32, activation=\"relu\"),\n",
    "    Dense(1, activation=\"linear\"),\n",
    "])\n",
    "\n",
    "nn_model.compile(optimizer='adam',\n",
    "                loss=\"mse\",\n",
    "                metrics=['mean_squared_error'])\n",
    "Y_pred = nn_model.fit(X_train, Y_train, batch_size=70, epochs=150, verbose=0,validation_data=(X_val, Y_val))"
   ]
  },
  {
   "cell_type": "code",
   "execution_count": 16,
   "metadata": {
    "scrolled": true
   },
   "outputs": [],
   "source": [
    "score = nn_model.evaluate(X_test, Y_test, verbose=0)"
   ]
  },
  {
   "cell_type": "markdown",
   "metadata": {},
   "source": [
    "Since feature importance is commonly determined by tree-based model, we directly use gradient boosting to find out feature importance."
   ]
  },
  {
   "cell_type": "code",
   "execution_count": 17,
   "metadata": {},
   "outputs": [
    {
     "data": {
      "text/plain": [
       "([<matplotlib.axis.XTick at 0x7fe8606e63c8>,\n",
       "  <matplotlib.axis.XTick at 0x7fe8606fa390>,\n",
       "  <matplotlib.axis.XTick at 0x7fe86070eef0>,\n",
       "  <matplotlib.axis.XTick at 0x7fe882988d68>,\n",
       "  <matplotlib.axis.XTick at 0x7fe8607d1240>,\n",
       "  <matplotlib.axis.XTick at 0x7fe8607d16d8>,\n",
       "  <matplotlib.axis.XTick at 0x7fe8607d1b70>,\n",
       "  <matplotlib.axis.XTick at 0x7fe8607d8048>,\n",
       "  <matplotlib.axis.XTick at 0x7fe8607d84e0>],\n",
       " [Text(0, 0, 'Age'),\n",
       "  Text(1, 0, 'Gender'),\n",
       "  Text(2, 0, 'Rehabilitation'),\n",
       "  Text(3, 0, 'Pet_intimacy'),\n",
       "  Text(4, 0, 'log_count'),\n",
       "  Text(5, 0, 'com_count'),\n",
       "  Text(6, 0, 'avg_loading'),\n",
       "  Text(7, 0, 'category_name'),\n",
       "  Text(8, 0, 'sum_duration')])"
      ]
     },
     "execution_count": 17,
     "metadata": {},
     "output_type": "execute_result"
    },
    {
     "data": {
      "image/png": "[encoded data removed]",
      "text/plain": [
       "<Figure size 1080x360 with 1 Axes>"
      ]
     },
     "metadata": {
      "needs_background": "light"
     },
     "output_type": "display_data"
    }
   ],
   "source": [
    "from sklearn.ensemble import GradientBoostingRegressor\n",
    "\n",
    "nn = GradientBoostingRegressor(n_estimators=100)\n",
    "nn.fit(X_val, Y_val.ravel())\n",
    "plt.figure(figsize=(15, 5))\n",
    "plt.bar(range(X_val.shape[1]), nn.feature_importances_)\n",
    "plt.xticks(range(X_val.shape[1]), [\"Age\", \"Gender\", \"Rehabilitation\", \"Pet_intimacy\", \"log_count\", \"com_count\", \"avg_loading\", \"category_name\", \"sum_duration\"])"
   ]
  },
  {
   "cell_type": "markdown",
   "metadata": {},
   "source": [
    "# == Above are the code for Neural Network, below were previously wrote =="
   ]
  },
  {
   "cell_type": "code",
   "execution_count": null,
   "metadata": {},
   "outputs": [],
   "source": [
    "# Neural Network\n",
    "class NN():\n",
    "    def __init__(self, input_n, layers=[256,128], output_n, lr, iterations):\n",
    "        self.input_layer = input_n\n",
    "        self.output_layer = output_n\n",
    "        self.fc1 = nn.Linear(self.input_layer, layers[0])\n",
    "        self.fc2 = nn.Linear(layers[0], layers[1])\n",
    "        self.fc3 = nn.Linear(layers[1], self.output_layer)\n",
    "\n",
    "        self.lr = lr\n",
    "        self.iterations = iterations\n",
    "    def forward(self, x):\n",
    "        x = F.relu(self.fc1(x))\n",
    "        x = F.relu(self.fc2(x))\n",
    "        x = F.softmax(self.fc3(x), dim=1)\n",
    "        return x\n",
    "\n",
    "class NN_train_test():\n",
    "    def __init__(self, input_n, layers, output_n, lr， iterations, num_epochs):\n",
    "        self.model = NN(input_n=input_n, layers=layers, output_n=output_n, lr=lr, iterations=iterations)\n",
    "        self.criterion = nn.CrossEntropyLoss()\n",
    "        self.optimizer = torch.optim.SGD(self.model.parameters(),lr=lr)\n",
    "        self.num_epochs = num_epochs\n",
    "    def train(X, y):\n",
    "        for epoch in range(self.num_epochs):\n",
    "            correct = 0\n",
    "            l = 0\n",
    "            for i in range(X.shape[0]):\n",
    "                data = X.iloc[i, :]\n",
    "                result = y.iloc[i, :]\n",
    "                prediction = self.model(data)\n",
    "                loss = self.criterion(prediction, result)\n",
    "                loss.backward()\n",
    "                optimizer.step()\n",
    "\n",
    "                _, predictions = prediction.max(dim=1)\n",
    "                correct += torch.eq(predictions, result).sum().item()\n",
    "                l += result.shape[0]\n",
    "            accuracy = correct / l\n",
    "            print(\"Epoch: {}, Accuracy: {}\".format(epoch, accuracy))\n",
    "\n",
    "    def test(X, y):\n",
    "        pass"
   ]
  },
  {
   "cell_type": "code",
   "execution_count": null,
   "metadata": {
    "id": "JpKEc4OTYxRo"
   },
   "outputs": [],
   "source": [
    "# Logistic Model\n",
    "input = data.loc[:, 'Have diseases':\"Recovery\"]\n",
    "target = data[[\"Recovery\"]]\n",
    "\n",
    "X, y = input, target\n",
    "X_train, X_test, y_train, y_test = train_test_split(X, y, random_state=10)"
   ]
  },
  {
   "cell_type": "code",
   "execution_count": null,
   "metadata": {
    "id": "ieSUPdkMRXd9"
   },
   "outputs": [],
   "source": [
    "iterations_n = 1000\n",
    "learning_rate = 0.01\n",
    "num_feature = len(cols)"
   ]
  },
  {
   "cell_type": "code",
   "execution_count": null,
   "metadata": {
    "id": "yps8b_Gqtx17"
   },
   "outputs": [],
   "source": [
    "class PytorchLRModel(nn.Module):\n",
    "    def __init__(self, num_feature):\n",
    "        super(PytorchLRModel, self).__init__()\n",
    "        self.fc1 = nn.Linear(num_feature, 2)\n",
    "    def forward(self, x):\n",
    "        x = F.sigmoid(self.fc1(x))\n",
    "        return x[:,1]\n",
    "\n",
    "clf = PytorchLRModel(num_feature)\n",
    "criterion = nn.BCELoss()"
   ]
  },
  {
   "cell_type": "code",
   "execution_count": null,
   "metadata": {
    "colab": {
     "base_uri": "https://localhost:8080/"
    },
    "id": "2Y05PFe8qXEE",
    "outputId": "d664d87b-84a0-4a29-bd8d-da72202086be"
   },
   "outputs": [],
   "source": [
    "import torch.optim as optim\n",
    "\n",
    "optimizer = optim.SGD(clf.parameters(), lr=learning_rate)\n",
    "input = Variable(torch.Tensor(X_train.values))\n",
    "target = Variable(torch.Tensor(y_train.values)).long()\n",
    "\n",
    "clf.train()\n",
    "for iter_ in range(iterations_n):\n",
    "  optimizer.zero_grad()\n",
    "  scores = clf(input)\n",
    "  loss = criterion(scores.unsqueeze(1), target.float())\n",
    "  loss.backward()\n",
    "  optimizer.step()\n",
    "\n",
    "  if iter_ % 100 == 0:\n",
    "    print('Iteration {}, Loss: {}'.format(iter_, loss.data.cpu().numpy()))"
   ]
  },
  {
   "cell_type": "code",
   "execution_count": null,
   "metadata": {
    "colab": {
     "base_uri": "https://localhost:8080/"
    },
    "id": "tfgVPnT3vp5a",
    "outputId": "366dbeb4-8f45-445e-b22b-a5fb348a8db5"
   },
   "outputs": [],
   "source": [
    "clf.eval()\n",
    "target = Variable(torch.Tensor(y_test.values)).long()\n",
    "y_hat = clf(Variable(torch.Tensor(X_test.values)))\n",
    "predictions = (y_hat >= 0.5).float()\n",
    "print(predictions)\n",
    "print(target.shape)\n",
    "accuracy = torch.eq(predictions, target).sum().item() / target.size()[0]\n",
    "print(\"Accuracy: \", accuracy)"
   ]
  },
  {
   "cell_type": "code",
   "execution_count": null,
   "metadata": {
    "colab": {
     "base_uri": "https://localhost:8080/"
    },
    "id": "_RVwIxOyeZiT",
    "outputId": "d09c43ca-3f2a-44f5-bb8b-af7c404d6aa3"
   },
   "outputs": [],
   "source": [
    "# Random Forest\n",
    "rf = RandomForestRegressor(n_estimators = 500, max_features = 'sqrt', max_depth = 8, random_state = 18).fit(X_train, y_train)\n",
    "prediction = rf.predict(X_test)\n",
    "mse = mean_squared_error(y_test, prediction)\n",
    "rmse = mse**.5\n",
    "print(mse)\n",
    "print(rmse)"
   ]
  },
  {
   "cell_type": "code",
   "execution_count": null,
   "metadata": {
    "id": "ztcW4YAJedP3"
   },
   "outputs": [],
   "source": [
    "# Neural Network\n",
    "class NN():\n",
    "    def __init__(self, input_n, layers=[256,128], output_n, lr, iterations):\n",
    "        self.input_layer = input_n\n",
    "        self.output_layer = output_n\n",
    "        self.fc1 = nn.Linear(self.input_layer, layers[0])\n",
    "        self.fc2 = nn.Linear(layers[0], layers[1])\n",
    "        self.fc3 = nn.Linear(layers[1], self.output_layer)\n",
    "\n",
    "        self.lr = lr\n",
    "        self.iterations = iterations\n",
    "    def forward(self, x):\n",
    "        x = F.relu(self.fc1(x))\n",
    "        x = F.relu(self.fc2(x))\n",
    "        x = F.softmax(self.fc3(x), dim=1)\n",
    "        return x\n",
    "\n",
    "class NN_train_test():\n",
    "    def __init__(self, input_n, layers, output_n, lr， iterations, num_epochs):\n",
    "        self.model = NN(input_n=input_n, layers=layers, output_n=output_n, lr=lr, iterations=iterations)\n",
    "        self.criterion = nn.CrossEntropyLoss()\n",
    "        self.optimizer = torch.optim.SGD(self.model.parameters(),lr=lr)\n",
    "        self.num_epochs = num_epochs\n",
    "    def train(X, y):\n",
    "        for epoch in range(self.num_epochs):\n",
    "            correct = 0\n",
    "            l = 0\n",
    "            for i in range(X.shape[0]):\n",
    "                data = X.iloc[i, :]\n",
    "                result = y.iloc[i, :]\n",
    "                prediction = self.model(data)\n",
    "                loss = self.criterion(prediction, result)\n",
    "                loss.backward()\n",
    "                optimizer.step()\n",
    "\n",
    "                _, predictions = prediction.max(dim=1)\n",
    "                correct += torch.eq(predictions, result).sum().item()\n",
    "                l += result.shape[0]\n",
    "            accuracy = correct / l\n",
    "            print(\"Epoch: {}, Accuracy: {}\".format(epoch, accuracy))\n",
    "\n",
    "    def test(X, y):\n",
    "        pass"
   ]
  },
  {
   "cell_type": "code",
   "execution_count": null,
   "metadata": {
    "id": "GWKsGGTtZwgh"
   },
   "outputs": [],
   "source": [
    "# RNN\n"
   ]
  }
 ],
 "metadata": {
  "colab": {
   "provenance": []
  },
  "kernelspec": {
   "display_name": "Python 3",
   "language": "python",
   "name": "python3"
  },
  "language_info": {
   "codemirror_mode": {
    "name": "ipython",
    "version": 3
   },
   "file_extension": ".py",
   "mimetype": "text/x-python",
   "name": "python",
   "nbconvert_exporter": "python",
   "pygments_lexer": "ipython3",
   "version": "3.6.13"
  }
 },
 "nbformat": 4,
 "nbformat_minor": 1
}

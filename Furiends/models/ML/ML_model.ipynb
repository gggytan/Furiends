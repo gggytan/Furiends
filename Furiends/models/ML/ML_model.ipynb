{
  "nbformat": 4,
  "nbformat_minor": 0,
  "metadata": {
    "colab": {
      "provenance": []
    },
    "kernelspec": {
      "name": "python3",
      "display_name": "Python 3"
    },
    "language_info": {
      "name": "python"
    }
  },
  "cells": [
    {
      "cell_type": "code",
      "source": [
        "#!pip install dtreeviz.trees"
      ],
      "metadata": {
        "colab": {
          "base_uri": "https://localhost:8080/"
        },
        "id": "7fW58t90vZPg",
        "outputId": "a55dd9ad-87aa-4ffd-b63c-e200f25e6b8d"
      },
      "execution_count": null,
      "outputs": [
        {
          "output_type": "stream",
          "name": "stdout",
          "text": [
            "Looking in indexes: https://pypi.org/simple, https://us-python.pkg.dev/colab-wheels/public/simple/\n",
            "\u001b[31mERROR: Could not find a version that satisfies the requirement dtreeviz.trees (from versions: none)\u001b[0m\u001b[31m\n",
            "\u001b[0m\u001b[31mERROR: No matching distribution found for dtreeviz.trees\u001b[0m\u001b[31m\n",
            "\u001b[0m"
          ]
        }
      ]
    },
    {
      "cell_type": "code",
      "execution_count": null,
      "metadata": {
        "id": "kZycVI0HWqUY"
      },
      "outputs": [],
      "source": [
        "# import libraries\n",
        "import numpy as np\n",
        "import pandas as pd\n",
        "import torch\n",
        "import torch.nn as nn\n",
        "import torch.nn.functional as F\n",
        "from sklearn.ensemble import RandomForestRegressor\n",
        "from sklearn.metrics import mean_squared_error\n",
        "from sklearn.svm import LinearSVC\n",
        "from sklearn.model_selection import train_test_split\n",
        "import matplotlib.pyplot as plt\n",
        "from torch.autograd import Variable"
      ]
    },
    {
      "cell_type": "code",
      "source": [
        "from google.colab import drive\n",
        "drive.mount('/content/drive')"
      ],
      "metadata": {
        "colab": {
          "base_uri": "https://localhost:8080/"
        },
        "id": "Cx2LG00LpWnp",
        "outputId": "f31159f3-9d16-441e-8892-32efab344174"
      },
      "execution_count": null,
      "outputs": [
        {
          "output_type": "stream",
          "name": "stdout",
          "text": [
            "Drive already mounted at /content/drive; to attempt to forcibly remount, call drive.mount(\"/content/drive\", force_remount=True).\n"
          ]
        }
      ]
    },
    {
      "cell_type": "code",
      "source": [
        "# Import Data\n",
        "data_name = \"/content/drive/MyDrive/MLTeam/fake data - Sheet1.csv\"\n",
        "data = pd.read_csv(data_name)"
      ],
      "metadata": {
        "id": "IIKDK9tSbazg"
      },
      "execution_count": null,
      "outputs": []
    },
    {
      "cell_type": "code",
      "source": [
        "data.head(10)"
      ],
      "metadata": {
        "colab": {
          "base_uri": "https://localhost:8080/",
          "height": 424
        },
        "id": "0uwSD2yfs4zp",
        "outputId": "c58de230-e6ab-4609-9721-d6792e449be9"
      },
      "execution_count": null,
      "outputs": [
        {
          "output_type": "execute_result",
          "data": {
            "text/plain": [
              "   Have diseases  Diseases type  Bmi (17-32)  Height(m)  weight(kg)  \\\n",
              "0              0            NaN           19       1.59        48.0   \n",
              "1              1            NaN           18       1.64        48.4   \n",
              "2              1            NaN           20       1.68        56.4   \n",
              "3              0            NaN           26       1.59        65.7   \n",
              "4              1            NaN           26       1.98       101.9   \n",
              "5              0            NaN           25       2.00       100.0   \n",
              "6              0            NaN           25       1.82        82.8   \n",
              "7              1            NaN           32       1.53        74.9   \n",
              "8              1            NaN           32       1.90       115.5   \n",
              "9              1            NaN           26       1.76        80.5   \n",
              "\n",
              "   Age (20-80)  Gender  Blood Glucose Levels(begin)  \\\n",
              "0           37       0                          NaN   \n",
              "1           72       0                          NaN   \n",
              "2           45       1                          NaN   \n",
              "3           66       0                          NaN   \n",
              "4           72       1                          NaN   \n",
              "5           30       1                          NaN   \n",
              "6           52       1                          NaN   \n",
              "7           68       1                          NaN   \n",
              "8           78       1                          NaN   \n",
              "9           32       1                          NaN   \n",
              "\n",
              "   Blood Glucose Levels(end)  Walk dog time (hr) (0-100)  \\\n",
              "0                        NaN                          30   \n",
              "1                        NaN                           4   \n",
              "2                        NaN                          50   \n",
              "3                        NaN                          80   \n",
              "4                        NaN                          68   \n",
              "5                        NaN                          76   \n",
              "6                        NaN                          77   \n",
              "7                        NaN                          35   \n",
              "8                        NaN                          80   \n",
              "9                        NaN                         100   \n",
              "\n",
              "   Play time (hrs) (0-50)  DAU/MAU rate  Total steps  Calories  Recovery  \n",
              "0                      43           NaN         6796    271.84         1  \n",
              "1                      31           NaN         8500    340.00         0  \n",
              "2                      28           NaN         7345    293.80         1  \n",
              "3                       1           NaN         5786    231.44         1  \n",
              "4                       6           NaN        10822    432.88         1  \n",
              "5                       8           NaN        12187    487.48         1  \n",
              "6                      38           NaN        13224    528.96         0  \n",
              "7                      12           NaN        11627    465.08         0  \n",
              "8                       8           NaN        14547    581.88         0  \n",
              "9                      46           NaN        11642    465.68         1  "
            ],
            "text/html": [
              "\n",
              "  <div id=\"df-d28d80a5-a1b1-474d-baa8-4b4aa46324d3\">\n",
              "    <div class=\"colab-df-container\">\n",
              "      <div>\n",
              "<style scoped>\n",
              "    .dataframe tbody tr th:only-of-type {\n",
              "        vertical-align: middle;\n",
              "    }\n",
              "\n",
              "    .dataframe tbody tr th {\n",
              "        vertical-align: top;\n",
              "    }\n",
              "\n",
              "    .dataframe thead th {\n",
              "        text-align: right;\n",
              "    }\n",
              "</style>\n",
              "<table border=\"1\" class=\"dataframe\">\n",
              "  <thead>\n",
              "    <tr style=\"text-align: right;\">\n",
              "      <th></th>\n",
              "      <th>Have diseases</th>\n",
              "      <th>Diseases type</th>\n",
              "      <th>Bmi (17-32)</th>\n",
              "      <th>Height(m)</th>\n",
              "      <th>weight(kg)</th>\n",
              "      <th>Age (20-80)</th>\n",
              "      <th>Gender</th>\n",
              "      <th>Blood Glucose Levels(begin)</th>\n",
              "      <th>Blood Glucose Levels(end)</th>\n",
              "      <th>Walk dog time (hr) (0-100)</th>\n",
              "      <th>Play time (hrs) (0-50)</th>\n",
              "      <th>DAU/MAU rate</th>\n",
              "      <th>Total steps</th>\n",
              "      <th>Calories</th>\n",
              "      <th>Recovery</th>\n",
              "    </tr>\n",
              "  </thead>\n",
              "  <tbody>\n",
              "    <tr>\n",
              "      <th>0</th>\n",
              "      <td>0</td>\n",
              "      <td>NaN</td>\n",
              "      <td>19</td>\n",
              "      <td>1.59</td>\n",
              "      <td>48.0</td>\n",
              "      <td>37</td>\n",
              "      <td>0</td>\n",
              "      <td>NaN</td>\n",
              "      <td>NaN</td>\n",
              "      <td>30</td>\n",
              "      <td>43</td>\n",
              "      <td>NaN</td>\n",
              "      <td>6796</td>\n",
              "      <td>271.84</td>\n",
              "      <td>1</td>\n",
              "    </tr>\n",
              "    <tr>\n",
              "      <th>1</th>\n",
              "      <td>1</td>\n",
              "      <td>NaN</td>\n",
              "      <td>18</td>\n",
              "      <td>1.64</td>\n",
              "      <td>48.4</td>\n",
              "      <td>72</td>\n",
              "      <td>0</td>\n",
              "      <td>NaN</td>\n",
              "      <td>NaN</td>\n",
              "      <td>4</td>\n",
              "      <td>31</td>\n",
              "      <td>NaN</td>\n",
              "      <td>8500</td>\n",
              "      <td>340.00</td>\n",
              "      <td>0</td>\n",
              "    </tr>\n",
              "    <tr>\n",
              "      <th>2</th>\n",
              "      <td>1</td>\n",
              "      <td>NaN</td>\n",
              "      <td>20</td>\n",
              "      <td>1.68</td>\n",
              "      <td>56.4</td>\n",
              "      <td>45</td>\n",
              "      <td>1</td>\n",
              "      <td>NaN</td>\n",
              "      <td>NaN</td>\n",
              "      <td>50</td>\n",
              "      <td>28</td>\n",
              "      <td>NaN</td>\n",
              "      <td>7345</td>\n",
              "      <td>293.80</td>\n",
              "      <td>1</td>\n",
              "    </tr>\n",
              "    <tr>\n",
              "      <th>3</th>\n",
              "      <td>0</td>\n",
              "      <td>NaN</td>\n",
              "      <td>26</td>\n",
              "      <td>1.59</td>\n",
              "      <td>65.7</td>\n",
              "      <td>66</td>\n",
              "      <td>0</td>\n",
              "      <td>NaN</td>\n",
              "      <td>NaN</td>\n",
              "      <td>80</td>\n",
              "      <td>1</td>\n",
              "      <td>NaN</td>\n",
              "      <td>5786</td>\n",
              "      <td>231.44</td>\n",
              "      <td>1</td>\n",
              "    </tr>\n",
              "    <tr>\n",
              "      <th>4</th>\n",
              "      <td>1</td>\n",
              "      <td>NaN</td>\n",
              "      <td>26</td>\n",
              "      <td>1.98</td>\n",
              "      <td>101.9</td>\n",
              "      <td>72</td>\n",
              "      <td>1</td>\n",
              "      <td>NaN</td>\n",
              "      <td>NaN</td>\n",
              "      <td>68</td>\n",
              "      <td>6</td>\n",
              "      <td>NaN</td>\n",
              "      <td>10822</td>\n",
              "      <td>432.88</td>\n",
              "      <td>1</td>\n",
              "    </tr>\n",
              "    <tr>\n",
              "      <th>5</th>\n",
              "      <td>0</td>\n",
              "      <td>NaN</td>\n",
              "      <td>25</td>\n",
              "      <td>2.00</td>\n",
              "      <td>100.0</td>\n",
              "      <td>30</td>\n",
              "      <td>1</td>\n",
              "      <td>NaN</td>\n",
              "      <td>NaN</td>\n",
              "      <td>76</td>\n",
              "      <td>8</td>\n",
              "      <td>NaN</td>\n",
              "      <td>12187</td>\n",
              "      <td>487.48</td>\n",
              "      <td>1</td>\n",
              "    </tr>\n",
              "    <tr>\n",
              "      <th>6</th>\n",
              "      <td>0</td>\n",
              "      <td>NaN</td>\n",
              "      <td>25</td>\n",
              "      <td>1.82</td>\n",
              "      <td>82.8</td>\n",
              "      <td>52</td>\n",
              "      <td>1</td>\n",
              "      <td>NaN</td>\n",
              "      <td>NaN</td>\n",
              "      <td>77</td>\n",
              "      <td>38</td>\n",
              "      <td>NaN</td>\n",
              "      <td>13224</td>\n",
              "      <td>528.96</td>\n",
              "      <td>0</td>\n",
              "    </tr>\n",
              "    <tr>\n",
              "      <th>7</th>\n",
              "      <td>1</td>\n",
              "      <td>NaN</td>\n",
              "      <td>32</td>\n",
              "      <td>1.53</td>\n",
              "      <td>74.9</td>\n",
              "      <td>68</td>\n",
              "      <td>1</td>\n",
              "      <td>NaN</td>\n",
              "      <td>NaN</td>\n",
              "      <td>35</td>\n",
              "      <td>12</td>\n",
              "      <td>NaN</td>\n",
              "      <td>11627</td>\n",
              "      <td>465.08</td>\n",
              "      <td>0</td>\n",
              "    </tr>\n",
              "    <tr>\n",
              "      <th>8</th>\n",
              "      <td>1</td>\n",
              "      <td>NaN</td>\n",
              "      <td>32</td>\n",
              "      <td>1.90</td>\n",
              "      <td>115.5</td>\n",
              "      <td>78</td>\n",
              "      <td>1</td>\n",
              "      <td>NaN</td>\n",
              "      <td>NaN</td>\n",
              "      <td>80</td>\n",
              "      <td>8</td>\n",
              "      <td>NaN</td>\n",
              "      <td>14547</td>\n",
              "      <td>581.88</td>\n",
              "      <td>0</td>\n",
              "    </tr>\n",
              "    <tr>\n",
              "      <th>9</th>\n",
              "      <td>1</td>\n",
              "      <td>NaN</td>\n",
              "      <td>26</td>\n",
              "      <td>1.76</td>\n",
              "      <td>80.5</td>\n",
              "      <td>32</td>\n",
              "      <td>1</td>\n",
              "      <td>NaN</td>\n",
              "      <td>NaN</td>\n",
              "      <td>100</td>\n",
              "      <td>46</td>\n",
              "      <td>NaN</td>\n",
              "      <td>11642</td>\n",
              "      <td>465.68</td>\n",
              "      <td>1</td>\n",
              "    </tr>\n",
              "  </tbody>\n",
              "</table>\n",
              "</div>\n",
              "      <button class=\"colab-df-convert\" onclick=\"convertToInteractive('df-d28d80a5-a1b1-474d-baa8-4b4aa46324d3')\"\n",
              "              title=\"Convert this dataframe to an interactive table.\"\n",
              "              style=\"display:none;\">\n",
              "        \n",
              "  <svg xmlns=\"http://www.w3.org/2000/svg\" height=\"24px\"viewBox=\"0 0 24 24\"\n",
              "       width=\"24px\">\n",
              "    <path d=\"M0 0h24v24H0V0z\" fill=\"none\"/>\n",
              "    <path d=\"M18.56 5.44l.94 2.06.94-2.06 2.06-.94-2.06-.94-.94-2.06-.94 2.06-2.06.94zm-11 1L8.5 8.5l.94-2.06 2.06-.94-2.06-.94L8.5 2.5l-.94 2.06-2.06.94zm10 10l.94 2.06.94-2.06 2.06-.94-2.06-.94-.94-2.06-.94 2.06-2.06.94z\"/><path d=\"M17.41 7.96l-1.37-1.37c-.4-.4-.92-.59-1.43-.59-.52 0-1.04.2-1.43.59L10.3 9.45l-7.72 7.72c-.78.78-.78 2.05 0 2.83L4 21.41c.39.39.9.59 1.41.59.51 0 1.02-.2 1.41-.59l7.78-7.78 2.81-2.81c.8-.78.8-2.07 0-2.86zM5.41 20L4 18.59l7.72-7.72 1.47 1.35L5.41 20z\"/>\n",
              "  </svg>\n",
              "      </button>\n",
              "      \n",
              "  <style>\n",
              "    .colab-df-container {\n",
              "      display:flex;\n",
              "      flex-wrap:wrap;\n",
              "      gap: 12px;\n",
              "    }\n",
              "\n",
              "    .colab-df-convert {\n",
              "      background-color: #E8F0FE;\n",
              "      border: none;\n",
              "      border-radius: 50%;\n",
              "      cursor: pointer;\n",
              "      display: none;\n",
              "      fill: #1967D2;\n",
              "      height: 32px;\n",
              "      padding: 0 0 0 0;\n",
              "      width: 32px;\n",
              "    }\n",
              "\n",
              "    .colab-df-convert:hover {\n",
              "      background-color: #E2EBFA;\n",
              "      box-shadow: 0px 1px 2px rgba(60, 64, 67, 0.3), 0px 1px 3px 1px rgba(60, 64, 67, 0.15);\n",
              "      fill: #174EA6;\n",
              "    }\n",
              "\n",
              "    [theme=dark] .colab-df-convert {\n",
              "      background-color: #3B4455;\n",
              "      fill: #D2E3FC;\n",
              "    }\n",
              "\n",
              "    [theme=dark] .colab-df-convert:hover {\n",
              "      background-color: #434B5C;\n",
              "      box-shadow: 0px 1px 3px 1px rgba(0, 0, 0, 0.15);\n",
              "      filter: drop-shadow(0px 1px 2px rgba(0, 0, 0, 0.3));\n",
              "      fill: #FFFFFF;\n",
              "    }\n",
              "  </style>\n",
              "\n",
              "      <script>\n",
              "        const buttonEl =\n",
              "          document.querySelector('#df-d28d80a5-a1b1-474d-baa8-4b4aa46324d3 button.colab-df-convert');\n",
              "        buttonEl.style.display =\n",
              "          google.colab.kernel.accessAllowed ? 'block' : 'none';\n",
              "\n",
              "        async function convertToInteractive(key) {\n",
              "          const element = document.querySelector('#df-d28d80a5-a1b1-474d-baa8-4b4aa46324d3');\n",
              "          const dataTable =\n",
              "            await google.colab.kernel.invokeFunction('convertToInteractive',\n",
              "                                                     [key], {});\n",
              "          if (!dataTable) return;\n",
              "\n",
              "          const docLinkHtml = 'Like what you see? Visit the ' +\n",
              "            '<a target=\"_blank\" href=https://colab.research.google.com/notebooks/data_table.ipynb>data table notebook</a>'\n",
              "            + ' to learn more about interactive tables.';\n",
              "          element.innerHTML = '';\n",
              "          dataTable['output_type'] = 'display_data';\n",
              "          await google.colab.output.renderOutput(dataTable, element);\n",
              "          const docLink = document.createElement('div');\n",
              "          docLink.innerHTML = docLinkHtml;\n",
              "          element.appendChild(docLink);\n",
              "        }\n",
              "      </script>\n",
              "    </div>\n",
              "  </div>\n",
              "  "
            ]
          },
          "metadata": {},
          "execution_count": 4
        }
      ]
    },
    {
      "cell_type": "code",
      "source": [
        "data.info()"
      ],
      "metadata": {
        "colab": {
          "base_uri": "https://localhost:8080/"
        },
        "id": "xyaDnJA5s8Ej",
        "outputId": "979a4139-15ec-41ce-e732-0e1ea5caa114"
      },
      "execution_count": null,
      "outputs": [
        {
          "output_type": "stream",
          "name": "stdout",
          "text": [
            "<class 'pandas.core.frame.DataFrame'>\n",
            "RangeIndex: 29 entries, 0 to 28\n",
            "Data columns (total 15 columns):\n",
            " #   Column                       Non-Null Count  Dtype  \n",
            "---  ------                       --------------  -----  \n",
            " 0   Have diseases                29 non-null     int64  \n",
            " 1   Diseases type                0 non-null      float64\n",
            " 2   Bmi (17-32)                  29 non-null     int64  \n",
            " 3   Height(m)                    29 non-null     float64\n",
            " 4   weight(kg)                   29 non-null     float64\n",
            " 5   Age (20-80)                  29 non-null     int64  \n",
            " 6   Gender                       29 non-null     int64  \n",
            " 7   Blood Glucose Levels(begin)  0 non-null      float64\n",
            " 8   Blood Glucose Levels(end)    0 non-null      float64\n",
            " 9   Walk dog time (hr) (0-100)   29 non-null     int64  \n",
            " 10  Play time (hrs) (0-50)       29 non-null     int64  \n",
            " 11  DAU/MAU rate                 0 non-null      float64\n",
            " 12  Total steps                  29 non-null     int64  \n",
            " 13  Calories                     29 non-null     float64\n",
            " 14  Recovery                     29 non-null     int64  \n",
            "dtypes: float64(7), int64(8)\n",
            "memory usage: 3.5 KB\n"
          ]
        }
      ]
    },
    {
      "cell_type": "code",
      "source": [
        "# Data Cleaning process\n",
        "cols = [\"Have diseases\", \"Bmi (17-32)\",\t\"Height(m)\",\t\"weight(kg)\",\t\"Age (20-80)\",\t\"Gender\", \"Walk dog time (hr) (0-100)\",\t\"Play time (hrs) (0-50)\",\t\"Total steps\",\t\"Calories\", \"Recovery\"]\n",
        "data = data[cols]"
      ],
      "metadata": {
        "id": "J4xYwTIgd9_j"
      },
      "execution_count": null,
      "outputs": []
    },
    {
      "cell_type": "code",
      "source": [
        "# Logistic Model\n",
        "input = data.loc[:, 'Have diseases':\"Recovery\"]\n",
        "target = data[[\"Recovery\"]]\n",
        "\n",
        "X, y = input, target\n",
        "X_train, X_test, y_train, y_test = train_test_split(X, y, random_state=10)"
      ],
      "metadata": {
        "id": "JpKEc4OTYxRo"
      },
      "execution_count": null,
      "outputs": []
    },
    {
      "cell_type": "code",
      "source": [
        "iterations_n = 1000\n",
        "learning_rate = 0.01\n",
        "num_feature = len(cols)"
      ],
      "metadata": {
        "id": "ieSUPdkMRXd9"
      },
      "execution_count": null,
      "outputs": []
    },
    {
      "cell_type": "code",
      "source": [
        "class PytorchLRModel(nn.Module):\n",
        "  def __init__(self, num_feature):\n",
        "    super(PytorchLRModel, self).__init__()\n",
        "    self.fc1 = nn.Linear(num_feature, 2)\n",
        "  \n",
        "  def forward(self, x):\n",
        "    x = F.sigmoid(self.fc1(x))\n",
        "    return x[:,1]\n",
        "\n",
        "clf = PytorchLRModel(num_feature)\n",
        "criterion = nn.BCELoss()"
      ],
      "metadata": {
        "id": "yps8b_Gqtx17"
      },
      "execution_count": null,
      "outputs": []
    },
    {
      "cell_type": "code",
      "source": [
        "import torch.optim as optim\n",
        "\n",
        "optimizer = optim.SGD(clf.parameters(), lr=learning_rate)\n",
        "input = Variable(torch.Tensor(X_train.values))\n",
        "target = Variable(torch.Tensor(y_train.values)).long()\n",
        "\n",
        "clf.train()\n",
        "for iter_ in range(iterations_n):\n",
        "  optimizer.zero_grad()\n",
        "  scores = clf(input)\n",
        "  loss = criterion(scores.unsqueeze(1), target.float())\n",
        "  loss.backward()\n",
        "  optimizer.step()\n",
        "\n",
        "  if iter_ % 100 == 0:\n",
        "    print('Iteration {}, Loss: {}'.format(iter_, loss.data.cpu().numpy()))"
      ],
      "metadata": {
        "colab": {
          "base_uri": "https://localhost:8080/"
        },
        "id": "2Y05PFe8qXEE",
        "outputId": "d664d87b-84a0-4a29-bd8d-da72202086be"
      },
      "execution_count": null,
      "outputs": [
        {
          "output_type": "stream",
          "name": "stderr",
          "text": [
            "/usr/local/lib/python3.8/dist-packages/torch/nn/functional.py:1967: UserWarning: nn.functional.sigmoid is deprecated. Use torch.sigmoid instead.\n",
            "  warnings.warn(\"nn.functional.sigmoid is deprecated. Use torch.sigmoid instead.\")\n"
          ]
        },
        {
          "output_type": "stream",
          "name": "stdout",
          "text": [
            "Iteration 0, Loss: 52.380950927734375\n",
            "Iteration 100, Loss: 52.380950927734375\n",
            "Iteration 200, Loss: 52.380950927734375\n",
            "Iteration 300, Loss: 52.380950927734375\n",
            "Iteration 400, Loss: 52.380950927734375\n",
            "Iteration 500, Loss: 52.380950927734375\n",
            "Iteration 600, Loss: 52.380950927734375\n",
            "Iteration 700, Loss: 52.380950927734375\n",
            "Iteration 800, Loss: 52.380950927734375\n",
            "Iteration 900, Loss: 52.380950927734375\n"
          ]
        }
      ]
    },
    {
      "cell_type": "code",
      "source": [
        "clf.eval()\n",
        "target = Variable(torch.Tensor(y_test.values)).long()\n",
        "y_hat = clf(Variable(torch.Tensor(X_test.values)))\n",
        "predictions = (y_hat >= 0.5).float()\n",
        "print(predictions)\n",
        "print(target.shape)\n",
        "accuracy = torch.eq(predictions, target).sum().item() / target.size()[0]\n",
        "print(\"Accuracy: \", accuracy)"
      ],
      "metadata": {
        "colab": {
          "base_uri": "https://localhost:8080/"
        },
        "id": "tfgVPnT3vp5a",
        "outputId": "366dbeb4-8f45-445e-b22b-a5fb348a8db5"
      },
      "execution_count": null,
      "outputs": [
        {
          "output_type": "stream",
          "name": "stdout",
          "text": [
            "tensor([0., 0., 0., 0., 0., 0., 0., 0.])\n",
            "torch.Size([8, 1])\n",
            "Accuracy:  5.0\n"
          ]
        }
      ]
    },
    {
      "cell_type": "code",
      "source": [
        "# Random Forest\n",
        "rf = RandomForestRegressor(n_estimators = 500, max_features = 'sqrt', max_depth = 8, random_state = 18).fit(X_train, y_train)\n",
        "prediction = rf.predict(X_test)\n",
        "mse = mean_squared_error(y_test, prediction)\n",
        "rmse = mse**.5\n",
        "print(mse)\n",
        "print(rmse)"
      ],
      "metadata": {
        "id": "_RVwIxOyeZiT",
        "colab": {
          "base_uri": "https://localhost:8080/"
        },
        "outputId": "d09c43ca-3f2a-44f5-bb8b-af7c404d6aa3"
      },
      "execution_count": null,
      "outputs": [
        {
          "output_type": "stream",
          "name": "stdout",
          "text": [
            "0.058571500000000006\n",
            "0.2420154953716807\n"
          ]
        }
      ]
    },
    {
      "cell_type": "code",
      "source": [
        "# Neural Network\n",
        "class NN():\n",
        "  def __init__(self, input_n, layers=[256,128], output_n, lr, iterations):\n",
        "    self.input_layer = input_n\n",
        "    self.output_layer = output_n\n",
        "    self.fc1 = nn.Linear(self.input_layer, layers[0])\n",
        "    self.fc2 = nn.Linear(layers[0], layers[1])\n",
        "    self.fc3 = nn.Linear(layers[1], self.output_layer)\n",
        "\n",
        "    self.lr = lr\n",
        "    self.iterations = iterations\n",
        "  \n",
        "  def forward(self, x):\n",
        "    x = F.relu(self.fc1(x))\n",
        "    x = F.relu(self.fc2(x))\n",
        "    x = F.softmax(self.fc3(x), dim=1)\n",
        "    return x\n",
        "\n",
        "class NN_train_test():\n",
        "  def __init__(self, input_n, layers, output_n, lr， iterations, num_epochs):\n",
        "    self.model = NN(input_n=input_n, layers=layers, output_n=output_n, lr=lr, iterations=iterations)\n",
        "    self.criterion = nn.CrossEntropyLoss()\n",
        "    self.optimizer = torch.optim.SGD(self.model.parameters(),lr=lr)\n",
        "    self.num_epochs = num_epochs\n",
        "\n",
        "  def train(X, y):\n",
        "    for epoch in range(self.num_epochs):\n",
        "      correct = 0\n",
        "      l = 0\n",
        "      for i in range(X.shape[0]):\n",
        "        data = X.iloc[i, :]\n",
        "        result = y.iloc[i, :]\n",
        "        prediction = self.model(data)\n",
        "        loss = self.criterion(prediction, result)\n",
        "        loss.backward()\n",
        "        optimizer.step()\n",
        "\n",
        "        _, predictions = prediction.max(dim=1)\n",
        "        correct += torch.eq(predictions, result).sum().item()\n",
        "        l += result.shape[0]\n",
        "    accuracy = correct / l\n",
        "    print(\"Epoch: {}, Accuracy: {}\".format(epoch, accuracy))\n",
        "\n",
        "  def test(X, y):\n",
        "    pass"
      ],
      "metadata": {
        "id": "ztcW4YAJedP3"
      },
      "execution_count": null,
      "outputs": []
    },
    {
      "cell_type": "code",
      "source": [
        "# RNN\n"
      ],
      "metadata": {
        "id": "GWKsGGTtZwgh"
      },
      "execution_count": null,
      "outputs": []
    }
  ]
}

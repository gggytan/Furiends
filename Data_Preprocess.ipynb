{
 "cells": [
  {
   "cell_type": "code",
   "execution_count": 31,
   "id": "5e3e1a0c",
   "metadata": {},
   "outputs": [],
   "source": [
    "# import libraries\n",
    "import numpy as np\n",
    "import pandas as pd\n",
    "import os\n",
    "import torch\n",
    "import torch.nn as nn\n",
    "import torch.nn.functional as F\n",
    "from geopy.geocoders import Nominatim\n",
    "from translate import Translator\n",
    "import seaborn as sns\n",
    "from pycountry_convert import country_alpha2_to_continent_code, country_name_to_country_alpha2\n",
    "from sklearn.ensemble import RandomForestRegressor\n",
    "from sklearn.metrics import mean_squared_error\n",
    "from sklearn.svm import LinearSVC\n",
    "from sklearn.model_selection import train_test_split\n",
    "import matplotlib.pyplot as plt\n",
    "from torch.autograd import Variable"
   ]
  },
  {
   "cell_type": "code",
   "execution_count": 32,
   "id": "5e75e9ce",
   "metadata": {},
   "outputs": [],
   "source": [
    "root_path = \"C:\\\\Users\\\\Solar\\\\Furiends\\\\Furiends\\\\data\\\\raw\\\\Fake Data2\\\\bigT3.csv\""
   ]
  },
  {
   "cell_type": "code",
   "execution_count": 33,
   "id": "c8909d33",
   "metadata": {},
   "outputs": [],
   "source": [
    "data = pd.read_csv(root_path)"
   ]
  },
  {
   "cell_type": "code",
   "execution_count": 34,
   "id": "59ae1c17",
   "metadata": {},
   "outputs": [
    {
     "data": {
      "text/html": [
       "<div>\n",
       "<style scoped>\n",
       "    .dataframe tbody tr th:only-of-type {\n",
       "        vertical-align: middle;\n",
       "    }\n",
       "\n",
       "    .dataframe tbody tr th {\n",
       "        vertical-align: top;\n",
       "    }\n",
       "\n",
       "    .dataframe thead th {\n",
       "        text-align: right;\n",
       "    }\n",
       "</style>\n",
       "<table border=\"1\" class=\"dataframe\">\n",
       "  <thead>\n",
       "    <tr style=\"text-align: right;\">\n",
       "      <th></th>\n",
       "      <th>User_id</th>\n",
       "      <th>First_Name</th>\n",
       "      <th>Last_Name</th>\n",
       "      <th>Address</th>\n",
       "      <th>Age</th>\n",
       "      <th>Gender</th>\n",
       "      <th>Rehabilitation</th>\n",
       "      <th>Pet_intimacy</th>\n",
       "      <th>category_name</th>\n",
       "      <th>Pet_Name</th>\n",
       "      <th>log_count</th>\n",
       "      <th>com_count</th>\n",
       "      <th>avg_loading</th>\n",
       "      <th>sum_duration</th>\n",
       "    </tr>\n",
       "  </thead>\n",
       "  <tbody>\n",
       "    <tr>\n",
       "      <th>0</th>\n",
       "      <td>1</td>\n",
       "      <td>Jane</td>\n",
       "      <td>Bruen</td>\n",
       "      <td>5272 Adela Overpass Suite 982\\r\\nRozellacheste...</td>\n",
       "      <td>28</td>\n",
       "      <td>1</td>\n",
       "      <td>2</td>\n",
       "      <td>4.2</td>\n",
       "      <td>'Maltese'</td>\n",
       "      <td>Barney</td>\n",
       "      <td>5</td>\n",
       "      <td>5</td>\n",
       "      <td>2611.97</td>\n",
       "      <td>70.8</td>\n",
       "    </tr>\n",
       "    <tr>\n",
       "      <th>1</th>\n",
       "      <td>2</td>\n",
       "      <td>Eliseo</td>\n",
       "      <td>Trantow</td>\n",
       "      <td>2506 Mertz Inlet\\r\\nSouth Ezekielshire, OK 56215</td>\n",
       "      <td>12</td>\n",
       "      <td>1</td>\n",
       "      <td>1</td>\n",
       "      <td>1.2</td>\n",
       "      <td>'Golden Retriever'</td>\n",
       "      <td>Juliana</td>\n",
       "      <td>1</td>\n",
       "      <td>2</td>\n",
       "      <td>4931.20</td>\n",
       "      <td>4.1</td>\n",
       "    </tr>\n",
       "    <tr>\n",
       "      <th>2</th>\n",
       "      <td>3</td>\n",
       "      <td>Oceane</td>\n",
       "      <td>Walter</td>\n",
       "      <td>9469 Frank Orchard Apt. 685\\r\\nLake Irmastad, ...</td>\n",
       "      <td>64</td>\n",
       "      <td>1</td>\n",
       "      <td>2</td>\n",
       "      <td>9.1</td>\n",
       "      <td>'Bulldog'</td>\n",
       "      <td>Sabrina</td>\n",
       "      <td>7</td>\n",
       "      <td>3</td>\n",
       "      <td>2610.35</td>\n",
       "      <td>59.9</td>\n",
       "    </tr>\n",
       "    <tr>\n",
       "      <th>3</th>\n",
       "      <td>4</td>\n",
       "      <td>Zack</td>\n",
       "      <td>Marvin</td>\n",
       "      <td>982 Susan Manors\\r\\nPort Amiya, UT 97043-2723</td>\n",
       "      <td>38</td>\n",
       "      <td>1</td>\n",
       "      <td>1</td>\n",
       "      <td>8.6</td>\n",
       "      <td>'German Shepherd'</td>\n",
       "      <td>Yasmine</td>\n",
       "      <td>9</td>\n",
       "      <td>8</td>\n",
       "      <td>2727.02</td>\n",
       "      <td>212.3</td>\n",
       "    </tr>\n",
       "    <tr>\n",
       "      <th>4</th>\n",
       "      <td>5</td>\n",
       "      <td>Marco</td>\n",
       "      <td>Kessler</td>\n",
       "      <td>671 Troy Isle Suite 459\\r\\nNew Carriemouth, OK...</td>\n",
       "      <td>28</td>\n",
       "      <td>1</td>\n",
       "      <td>1</td>\n",
       "      <td>1.9</td>\n",
       "      <td>'German Shepherd'</td>\n",
       "      <td>Cristopher</td>\n",
       "      <td>4</td>\n",
       "      <td>7</td>\n",
       "      <td>4054.30</td>\n",
       "      <td>14.6</td>\n",
       "    </tr>\n",
       "    <tr>\n",
       "      <th>...</th>\n",
       "      <td>...</td>\n",
       "      <td>...</td>\n",
       "      <td>...</td>\n",
       "      <td>...</td>\n",
       "      <td>...</td>\n",
       "      <td>...</td>\n",
       "      <td>...</td>\n",
       "      <td>...</td>\n",
       "      <td>...</td>\n",
       "      <td>...</td>\n",
       "      <td>...</td>\n",
       "      <td>...</td>\n",
       "      <td>...</td>\n",
       "      <td>...</td>\n",
       "    </tr>\n",
       "    <tr>\n",
       "      <th>595</th>\n",
       "      <td>596</td>\n",
       "      <td>Ethan</td>\n",
       "      <td>Schuppe</td>\n",
       "      <td>17224 Koelpin Rest\\r\\nTheresiashire, GA 69914</td>\n",
       "      <td>79</td>\n",
       "      <td>2</td>\n",
       "      <td>1</td>\n",
       "      <td>8.2</td>\n",
       "      <td>'Bulldog'</td>\n",
       "      <td>Filomena</td>\n",
       "      <td>4</td>\n",
       "      <td>5</td>\n",
       "      <td>1971.06</td>\n",
       "      <td>80.3</td>\n",
       "    </tr>\n",
       "    <tr>\n",
       "      <th>596</th>\n",
       "      <td>597</td>\n",
       "      <td>Austin</td>\n",
       "      <td>Legros</td>\n",
       "      <td>476 Veda View\\r\\nGroverfurt, AK 15766-2282</td>\n",
       "      <td>80</td>\n",
       "      <td>1</td>\n",
       "      <td>2</td>\n",
       "      <td>9.1</td>\n",
       "      <td>'Shi-ba-inu'</td>\n",
       "      <td>Herta</td>\n",
       "      <td>3</td>\n",
       "      <td>7</td>\n",
       "      <td>2113.40</td>\n",
       "      <td>53.9</td>\n",
       "    </tr>\n",
       "    <tr>\n",
       "      <th>597</th>\n",
       "      <td>598</td>\n",
       "      <td>Ilene</td>\n",
       "      <td>Dietrich</td>\n",
       "      <td>934 Josianne Inlet\\r\\nLavonnechester, AZ 30057...</td>\n",
       "      <td>74</td>\n",
       "      <td>1</td>\n",
       "      <td>2</td>\n",
       "      <td>2.8</td>\n",
       "      <td>'Poodle'</td>\n",
       "      <td>Lamont</td>\n",
       "      <td>2</td>\n",
       "      <td>5</td>\n",
       "      <td>1083.90</td>\n",
       "      <td>4.3</td>\n",
       "    </tr>\n",
       "    <tr>\n",
       "      <th>598</th>\n",
       "      <td>599</td>\n",
       "      <td>Novella</td>\n",
       "      <td>Becker</td>\n",
       "      <td>76281 Germaine Valley\\r\\nBoscobury, DE 99069-3814</td>\n",
       "      <td>29</td>\n",
       "      <td>2</td>\n",
       "      <td>2</td>\n",
       "      <td>1.0</td>\n",
       "      <td>'Golden Retriever'</td>\n",
       "      <td>Wendy</td>\n",
       "      <td>7</td>\n",
       "      <td>3</td>\n",
       "      <td>2126.39</td>\n",
       "      <td>193.7</td>\n",
       "    </tr>\n",
       "    <tr>\n",
       "      <th>599</th>\n",
       "      <td>600</td>\n",
       "      <td>Rodrick</td>\n",
       "      <td>Pacocha</td>\n",
       "      <td>840 Pfeffer Club\\r\\nEast Amiya, MO 28324</td>\n",
       "      <td>25</td>\n",
       "      <td>1</td>\n",
       "      <td>2</td>\n",
       "      <td>7.6</td>\n",
       "      <td>'Maltese'</td>\n",
       "      <td>Alia</td>\n",
       "      <td>5</td>\n",
       "      <td>5</td>\n",
       "      <td>1883.28</td>\n",
       "      <td>76.1</td>\n",
       "    </tr>\n",
       "  </tbody>\n",
       "</table>\n",
       "<p>600 rows × 14 columns</p>\n",
       "</div>"
      ],
      "text/plain": [
       "     User_id First_Name Last_Name  \\\n",
       "0          1       Jane     Bruen   \n",
       "1          2     Eliseo   Trantow   \n",
       "2          3     Oceane    Walter   \n",
       "3          4       Zack    Marvin   \n",
       "4          5      Marco   Kessler   \n",
       "..       ...        ...       ...   \n",
       "595      596      Ethan   Schuppe   \n",
       "596      597     Austin    Legros   \n",
       "597      598      Ilene  Dietrich   \n",
       "598      599    Novella    Becker   \n",
       "599      600    Rodrick   Pacocha   \n",
       "\n",
       "                                               Address  Age  Gender  \\\n",
       "0    5272 Adela Overpass Suite 982\\r\\nRozellacheste...   28       1   \n",
       "1     2506 Mertz Inlet\\r\\nSouth Ezekielshire, OK 56215   12       1   \n",
       "2    9469 Frank Orchard Apt. 685\\r\\nLake Irmastad, ...   64       1   \n",
       "3        982 Susan Manors\\r\\nPort Amiya, UT 97043-2723   38       1   \n",
       "4    671 Troy Isle Suite 459\\r\\nNew Carriemouth, OK...   28       1   \n",
       "..                                                 ...  ...     ...   \n",
       "595      17224 Koelpin Rest\\r\\nTheresiashire, GA 69914   79       2   \n",
       "596         476 Veda View\\r\\nGroverfurt, AK 15766-2282   80       1   \n",
       "597  934 Josianne Inlet\\r\\nLavonnechester, AZ 30057...   74       1   \n",
       "598  76281 Germaine Valley\\r\\nBoscobury, DE 99069-3814   29       2   \n",
       "599           840 Pfeffer Club\\r\\nEast Amiya, MO 28324   25       1   \n",
       "\n",
       "     Rehabilitation  Pet_intimacy       category_name    Pet_Name  log_count  \\\n",
       "0                 2           4.2           'Maltese'      Barney          5   \n",
       "1                 1           1.2  'Golden Retriever'     Juliana          1   \n",
       "2                 2           9.1           'Bulldog'     Sabrina          7   \n",
       "3                 1           8.6   'German Shepherd'     Yasmine          9   \n",
       "4                 1           1.9   'German Shepherd'  Cristopher          4   \n",
       "..              ...           ...                 ...         ...        ...   \n",
       "595               1           8.2           'Bulldog'    Filomena          4   \n",
       "596               2           9.1        'Shi-ba-inu'       Herta          3   \n",
       "597               2           2.8            'Poodle'      Lamont          2   \n",
       "598               2           1.0  'Golden Retriever'       Wendy          7   \n",
       "599               2           7.6           'Maltese'        Alia          5   \n",
       "\n",
       "     com_count  avg_loading  sum_duration  \n",
       "0            5      2611.97          70.8  \n",
       "1            2      4931.20           4.1  \n",
       "2            3      2610.35          59.9  \n",
       "3            8      2727.02         212.3  \n",
       "4            7      4054.30          14.6  \n",
       "..         ...          ...           ...  \n",
       "595          5      1971.06          80.3  \n",
       "596          7      2113.40          53.9  \n",
       "597          5      1083.90           4.3  \n",
       "598          3      2126.39         193.7  \n",
       "599          5      1883.28          76.1  \n",
       "\n",
       "[600 rows x 14 columns]"
      ]
     },
     "execution_count": 34,
     "metadata": {},
     "output_type": "execute_result"
    }
   ],
   "source": [
    "data"
   ]
  },
  {
   "cell_type": "code",
   "execution_count": 35,
   "id": "aa7154b5",
   "metadata": {
    "scrolled": true
   },
   "outputs": [
    {
     "data": {
      "text/plain": [
       "Index(['User_id', 'First_Name', 'Last_Name', 'Address', 'Age', 'Gender',\n",
       "       'Rehabilitation', 'Pet_intimacy', 'category_name', 'Pet_Name',\n",
       "       'log_count', 'com_count', 'avg_loading', 'sum_duration'],\n",
       "      dtype='object')"
      ]
     },
     "execution_count": 35,
     "metadata": {},
     "output_type": "execute_result"
    }
   ],
   "source": [
    "data.columns"
   ]
  },
  {
   "cell_type": "code",
   "execution_count": 36,
   "id": "61a3d130",
   "metadata": {},
   "outputs": [
    {
     "data": {
      "text/plain": [
       "(600, 14)"
      ]
     },
     "execution_count": 36,
     "metadata": {},
     "output_type": "execute_result"
    }
   ],
   "source": [
    "data.shape"
   ]
  },
  {
   "cell_type": "markdown",
   "id": "8add2c92",
   "metadata": {},
   "source": [
    "## 1. Check Numeric Data Range"
   ]
  },
  {
   "cell_type": "code",
   "execution_count": 37,
   "id": "0fc1532e",
   "metadata": {
    "scrolled": true
   },
   "outputs": [
    {
     "data": {
      "text/plain": [
       "count    600.000000\n",
       "mean      49.863333\n",
       "std       22.283527\n",
       "min       12.000000\n",
       "25%       30.000000\n",
       "50%       50.000000\n",
       "75%       69.000000\n",
       "max       90.000000\n",
       "Name: Age, dtype: float64"
      ]
     },
     "execution_count": 37,
     "metadata": {},
     "output_type": "execute_result"
    }
   ],
   "source": [
    "data.loc[:, \"Age\"].describe()"
   ]
  },
  {
   "cell_type": "markdown",
   "id": "80689f80",
   "metadata": {},
   "source": [
    "Oldest user age: 90 <br>\n",
    "Yougest user age: 12<br>"
   ]
  },
  {
   "cell_type": "code",
   "execution_count": 38,
   "id": "38966254",
   "metadata": {
    "scrolled": false
   },
   "outputs": [
    {
     "data": {
      "text/plain": [
       "count    600.000000\n",
       "mean       4.875000\n",
       "std        2.853708\n",
       "min        0.000000\n",
       "25%        2.500000\n",
       "50%        4.850000\n",
       "75%        7.300000\n",
       "max       10.000000\n",
       "Name: Pet_intimacy, dtype: float64"
      ]
     },
     "execution_count": 38,
     "metadata": {},
     "output_type": "execute_result"
    }
   ],
   "source": [
    "data.loc[:, \"Pet_intimacy\"].describe()"
   ]
  },
  {
   "cell_type": "code",
   "execution_count": 39,
   "id": "7c41ce74",
   "metadata": {
    "scrolled": true
   },
   "outputs": [
    {
     "data": {
      "text/plain": [
       "count    600.000000\n",
       "mean       4.878333\n",
       "std        2.848582\n",
       "min        0.100000\n",
       "25%        2.500000\n",
       "50%        4.850000\n",
       "75%        7.300000\n",
       "max       10.000000\n",
       "Name: Pet_intimacy, dtype: float64"
      ]
     },
     "execution_count": 39,
     "metadata": {},
     "output_type": "execute_result"
    }
   ],
   "source": [
    "# replace all intimacy = 0 to 1\n",
    "data[\"Pet_intimacy\"] = data[\"Pet_intimacy\"].replace(0, 1)\n",
    "data.loc[:, \"Pet_intimacy\"].describe()"
   ]
  },
  {
   "cell_type": "markdown",
   "id": "89fd0230",
   "metadata": {},
   "source": [
    "minimum intimacy: 0<br>\n",
    "maxium intimacy: 10"
   ]
  },
  {
   "cell_type": "code",
   "execution_count": 40,
   "id": "65c0254e",
   "metadata": {
    "scrolled": true
   },
   "outputs": [
    {
     "data": {
      "text/plain": [
       "596"
      ]
     },
     "execution_count": 40,
     "metadata": {},
     "output_type": "execute_result"
    }
   ],
   "source": [
    "sum(data[\"avg_loading\"] > data[\"sum_duration\"])"
   ]
  },
  {
   "cell_type": "markdown",
   "id": "a70029db",
   "metadata": {},
   "source": [
    "What's average loading meaning? <br>\n",
    "Does it relate to sum duration? <br>\n",
    "The average loading of 4 data is less than their sum duration, is this a problem?"
   ]
  },
  {
   "cell_type": "markdown",
   "id": "31e50eb7",
   "metadata": {},
   "source": [
    "## 2. Check Categorical Data Value"
   ]
  },
  {
   "cell_type": "code",
   "execution_count": 41,
   "id": "32b8de7e",
   "metadata": {},
   "outputs": [
    {
     "data": {
      "text/plain": [
       "1    304\n",
       "2    296\n",
       "Name: Gender, dtype: int64"
      ]
     },
     "execution_count": 41,
     "metadata": {},
     "output_type": "execute_result"
    }
   ],
   "source": [
    "data.loc[:, \"Gender\"].value_counts()"
   ]
  },
  {
   "cell_type": "code",
   "execution_count": 42,
   "id": "86c5a207",
   "metadata": {
    "scrolled": true
   },
   "outputs": [
    {
     "data": {
      "text/plain": [
       "2    300\n",
       "1    300\n",
       "Name: Rehabilitation, dtype: int64"
      ]
     },
     "execution_count": 42,
     "metadata": {},
     "output_type": "execute_result"
    }
   ],
   "source": [
    "data.loc[:, \"Rehabilitation\"].value_counts()"
   ]
  },
  {
   "cell_type": "code",
   "execution_count": 43,
   "id": "cdf2ead9",
   "metadata": {},
   "outputs": [
    {
     "data": {
      "text/plain": [
       "'Bulldog'             115\n",
       "'Maltese'             102\n",
       "'Poodle'               99\n",
       "'German Shepherd'      97\n",
       "'Golden Retriever'     94\n",
       "'Shi-ba-inu'           93\n",
       "Name: category_name, dtype: int64"
      ]
     },
     "execution_count": 43,
     "metadata": {},
     "output_type": "execute_result"
    }
   ],
   "source": [
    "data.loc[:,\"category_name\"].value_counts()"
   ]
  },
  {
   "cell_type": "markdown",
   "id": "a7fa4067",
   "metadata": {},
   "source": [
    "## 3. Address Split"
   ]
  },
  {
   "cell_type": "code",
   "execution_count": 44,
   "id": "e7a5dfa3",
   "metadata": {},
   "outputs": [],
   "source": [
    "def get_continent(col):\n",
    "    try:\n",
    "        col = col.strip()\n",
    "        cn_a2_code =  country_name_to_country_alpha2(col)\n",
    "    except:\n",
    "        cn_a2_code = 'Unknown' \n",
    "    try:\n",
    "        cn_continent = country_alpha2_to_continent_code(cn_a2_code)\n",
    "    except:\n",
    "        cn_continent = 'Unknown' \n",
    "    return (cn_a2_code, cn_continent)\n",
    "\n",
    "\n",
    "def get_country(zipcode):\n",
    "    try:\n",
    "        country = geolocator.geocode(zipcode, language='en').address.split(',')[-1]\n",
    "        return country\n",
    "    except AttributeError:\n",
    "        return None"
   ]
  },
  {
   "cell_type": "code",
   "execution_count": 45,
   "id": "88832fe1",
   "metadata": {},
   "outputs": [
    {
     "name": "stderr",
     "output_type": "stream",
     "text": [
      "C:\\Users\\Solar\\AppData\\Local\\Temp\\ipykernel_9324\\3356182490.py:12: SettingWithCopyWarning: \n",
      "A value is trying to be set on a copy of a slice from a DataFrame.\n",
      "Try using .loc[row_indexer,col_indexer] = value instead\n",
      "\n",
      "See the caveats in the documentation: https://pandas.pydata.org/pandas-docs/stable/user_guide/indexing.html#returning-a-view-versus-a-copy\n",
      "  data[\"Country_abbrev\"] = data.loc[:, \"Country\"].apply(lambda x: get_continent(x)[0])\n",
      "C:\\Users\\Solar\\AppData\\Local\\Temp\\ipykernel_9324\\3356182490.py:13: SettingWithCopyWarning: \n",
      "A value is trying to be set on a copy of a slice from a DataFrame.\n",
      "Try using .loc[row_indexer,col_indexer] = value instead\n",
      "\n",
      "See the caveats in the documentation: https://pandas.pydata.org/pandas-docs/stable/user_guide/indexing.html#returning-a-view-versus-a-copy\n",
      "  data[\"Continent\"] = data.loc[:, \"Country\"].apply(lambda x: get_continent(x)[1])\n"
     ]
    }
   ],
   "source": [
    "# create a new column named zipcode and grab zip code information from address\n",
    "data[\"Zipcode\"] = data[\"Address\"].str.split(\", \").str.get(-1).str.split(\" \").str.get(-1).str[:5]\n",
    "\n",
    "# get the country name using zipcode\n",
    "geolocator = Nominatim(user_agent=\"geoapiExercises\")\n",
    "data[\"Country\"] = data.loc[:, \"Zipcode\"].apply(lambda x: get_country(x))\n",
    "\n",
    "# delete data with invalid zipcode (zipcode that could not find a corresponding location)\n",
    "data = data.loc[data.loc[:,\"Country\"].str.isnumeric() == False]\n",
    "\n",
    "# create columns to store the abbreviate country name and country's continent name\n",
    "data[\"Country_abbrev\"] = data.loc[:, \"Country\"].apply(lambda x: get_continent(x)[0])\n",
    "data[\"Continent\"] = data.loc[:, \"Country\"].apply(lambda x: get_continent(x)[1])"
   ]
  },
  {
   "cell_type": "code",
   "execution_count": 46,
   "id": "e41feb12",
   "metadata": {},
   "outputs": [
    {
     "data": {
      "text/html": [
       "<div>\n",
       "<style scoped>\n",
       "    .dataframe tbody tr th:only-of-type {\n",
       "        vertical-align: middle;\n",
       "    }\n",
       "\n",
       "    .dataframe tbody tr th {\n",
       "        vertical-align: top;\n",
       "    }\n",
       "\n",
       "    .dataframe thead th {\n",
       "        text-align: right;\n",
       "    }\n",
       "</style>\n",
       "<table border=\"1\" class=\"dataframe\">\n",
       "  <thead>\n",
       "    <tr style=\"text-align: right;\">\n",
       "      <th></th>\n",
       "      <th>User_id</th>\n",
       "      <th>First_Name</th>\n",
       "      <th>Last_Name</th>\n",
       "      <th>Address</th>\n",
       "      <th>Age</th>\n",
       "      <th>Gender</th>\n",
       "      <th>Rehabilitation</th>\n",
       "      <th>Pet_intimacy</th>\n",
       "      <th>category_name</th>\n",
       "      <th>Pet_Name</th>\n",
       "      <th>log_count</th>\n",
       "      <th>com_count</th>\n",
       "      <th>avg_loading</th>\n",
       "      <th>sum_duration</th>\n",
       "      <th>Zipcode</th>\n",
       "      <th>Country</th>\n",
       "      <th>Country_abbrev</th>\n",
       "      <th>Continent</th>\n",
       "    </tr>\n",
       "  </thead>\n",
       "  <tbody>\n",
       "    <tr>\n",
       "      <th>0</th>\n",
       "      <td>1</td>\n",
       "      <td>Jane</td>\n",
       "      <td>Bruen</td>\n",
       "      <td>5272 Adela Overpass Suite 982\\r\\nRozellacheste...</td>\n",
       "      <td>28</td>\n",
       "      <td>1</td>\n",
       "      <td>2</td>\n",
       "      <td>4.2</td>\n",
       "      <td>'Maltese'</td>\n",
       "      <td>Barney</td>\n",
       "      <td>5</td>\n",
       "      <td>5</td>\n",
       "      <td>2611.97</td>\n",
       "      <td>70.8</td>\n",
       "      <td>14374</td>\n",
       "      <td>United States</td>\n",
       "      <td>US</td>\n",
       "      <td>NA</td>\n",
       "    </tr>\n",
       "    <tr>\n",
       "      <th>1</th>\n",
       "      <td>2</td>\n",
       "      <td>Eliseo</td>\n",
       "      <td>Trantow</td>\n",
       "      <td>2506 Mertz Inlet\\r\\nSouth Ezekielshire, OK 56215</td>\n",
       "      <td>12</td>\n",
       "      <td>1</td>\n",
       "      <td>1</td>\n",
       "      <td>1.2</td>\n",
       "      <td>'Golden Retriever'</td>\n",
       "      <td>Juliana</td>\n",
       "      <td>1</td>\n",
       "      <td>2</td>\n",
       "      <td>4931.20</td>\n",
       "      <td>4.1</td>\n",
       "      <td>56215</td>\n",
       "      <td>South Korea</td>\n",
       "      <td>KR</td>\n",
       "      <td>AS</td>\n",
       "    </tr>\n",
       "    <tr>\n",
       "      <th>2</th>\n",
       "      <td>3</td>\n",
       "      <td>Oceane</td>\n",
       "      <td>Walter</td>\n",
       "      <td>9469 Frank Orchard Apt. 685\\r\\nLake Irmastad, ...</td>\n",
       "      <td>64</td>\n",
       "      <td>1</td>\n",
       "      <td>2</td>\n",
       "      <td>9.1</td>\n",
       "      <td>'Bulldog'</td>\n",
       "      <td>Sabrina</td>\n",
       "      <td>7</td>\n",
       "      <td>3</td>\n",
       "      <td>2610.35</td>\n",
       "      <td>59.9</td>\n",
       "      <td>72714</td>\n",
       "      <td>United States</td>\n",
       "      <td>US</td>\n",
       "      <td>NA</td>\n",
       "    </tr>\n",
       "    <tr>\n",
       "      <th>3</th>\n",
       "      <td>4</td>\n",
       "      <td>Zack</td>\n",
       "      <td>Marvin</td>\n",
       "      <td>982 Susan Manors\\r\\nPort Amiya, UT 97043-2723</td>\n",
       "      <td>38</td>\n",
       "      <td>1</td>\n",
       "      <td>1</td>\n",
       "      <td>8.6</td>\n",
       "      <td>'German Shepherd'</td>\n",
       "      <td>Yasmine</td>\n",
       "      <td>9</td>\n",
       "      <td>8</td>\n",
       "      <td>2727.02</td>\n",
       "      <td>212.3</td>\n",
       "      <td>97043</td>\n",
       "      <td>Ukraine</td>\n",
       "      <td>UA</td>\n",
       "      <td>EU</td>\n",
       "    </tr>\n",
       "    <tr>\n",
       "      <th>4</th>\n",
       "      <td>5</td>\n",
       "      <td>Marco</td>\n",
       "      <td>Kessler</td>\n",
       "      <td>671 Troy Isle Suite 459\\r\\nNew Carriemouth, OK...</td>\n",
       "      <td>28</td>\n",
       "      <td>1</td>\n",
       "      <td>1</td>\n",
       "      <td>1.9</td>\n",
       "      <td>'German Shepherd'</td>\n",
       "      <td>Cristopher</td>\n",
       "      <td>4</td>\n",
       "      <td>7</td>\n",
       "      <td>4054.30</td>\n",
       "      <td>14.6</td>\n",
       "      <td>61216</td>\n",
       "      <td>South Korea</td>\n",
       "      <td>KR</td>\n",
       "      <td>AS</td>\n",
       "    </tr>\n",
       "    <tr>\n",
       "      <th>...</th>\n",
       "      <td>...</td>\n",
       "      <td>...</td>\n",
       "      <td>...</td>\n",
       "      <td>...</td>\n",
       "      <td>...</td>\n",
       "      <td>...</td>\n",
       "      <td>...</td>\n",
       "      <td>...</td>\n",
       "      <td>...</td>\n",
       "      <td>...</td>\n",
       "      <td>...</td>\n",
       "      <td>...</td>\n",
       "      <td>...</td>\n",
       "      <td>...</td>\n",
       "      <td>...</td>\n",
       "      <td>...</td>\n",
       "      <td>...</td>\n",
       "      <td>...</td>\n",
       "    </tr>\n",
       "    <tr>\n",
       "      <th>595</th>\n",
       "      <td>596</td>\n",
       "      <td>Ethan</td>\n",
       "      <td>Schuppe</td>\n",
       "      <td>17224 Koelpin Rest\\r\\nTheresiashire, GA 69914</td>\n",
       "      <td>79</td>\n",
       "      <td>2</td>\n",
       "      <td>1</td>\n",
       "      <td>8.2</td>\n",
       "      <td>'Bulldog'</td>\n",
       "      <td>Filomena</td>\n",
       "      <td>4</td>\n",
       "      <td>5</td>\n",
       "      <td>1971.06</td>\n",
       "      <td>80.3</td>\n",
       "      <td>69914</td>\n",
       "      <td>Brazil</td>\n",
       "      <td>BR</td>\n",
       "      <td>SA</td>\n",
       "    </tr>\n",
       "    <tr>\n",
       "      <th>596</th>\n",
       "      <td>597</td>\n",
       "      <td>Austin</td>\n",
       "      <td>Legros</td>\n",
       "      <td>476 Veda View\\r\\nGroverfurt, AK 15766-2282</td>\n",
       "      <td>80</td>\n",
       "      <td>1</td>\n",
       "      <td>2</td>\n",
       "      <td>9.1</td>\n",
       "      <td>'Shi-ba-inu'</td>\n",
       "      <td>Herta</td>\n",
       "      <td>3</td>\n",
       "      <td>7</td>\n",
       "      <td>2113.40</td>\n",
       "      <td>53.9</td>\n",
       "      <td>15766</td>\n",
       "      <td>Brazil</td>\n",
       "      <td>BR</td>\n",
       "      <td>SA</td>\n",
       "    </tr>\n",
       "    <tr>\n",
       "      <th>597</th>\n",
       "      <td>598</td>\n",
       "      <td>Ilene</td>\n",
       "      <td>Dietrich</td>\n",
       "      <td>934 Josianne Inlet\\r\\nLavonnechester, AZ 30057...</td>\n",
       "      <td>74</td>\n",
       "      <td>1</td>\n",
       "      <td>2</td>\n",
       "      <td>2.8</td>\n",
       "      <td>'Poodle'</td>\n",
       "      <td>Lamont</td>\n",
       "      <td>2</td>\n",
       "      <td>5</td>\n",
       "      <td>1083.90</td>\n",
       "      <td>4.3</td>\n",
       "      <td>30057</td>\n",
       "      <td>Taiwan</td>\n",
       "      <td>TW</td>\n",
       "      <td>AS</td>\n",
       "    </tr>\n",
       "    <tr>\n",
       "      <th>598</th>\n",
       "      <td>599</td>\n",
       "      <td>Novella</td>\n",
       "      <td>Becker</td>\n",
       "      <td>76281 Germaine Valley\\r\\nBoscobury, DE 99069-3814</td>\n",
       "      <td>29</td>\n",
       "      <td>2</td>\n",
       "      <td>2</td>\n",
       "      <td>1.0</td>\n",
       "      <td>'Golden Retriever'</td>\n",
       "      <td>Wendy</td>\n",
       "      <td>7</td>\n",
       "      <td>3</td>\n",
       "      <td>2126.39</td>\n",
       "      <td>193.7</td>\n",
       "      <td>99069</td>\n",
       "      <td>United States</td>\n",
       "      <td>US</td>\n",
       "      <td>NA</td>\n",
       "    </tr>\n",
       "    <tr>\n",
       "      <th>599</th>\n",
       "      <td>600</td>\n",
       "      <td>Rodrick</td>\n",
       "      <td>Pacocha</td>\n",
       "      <td>840 Pfeffer Club\\r\\nEast Amiya, MO 28324</td>\n",
       "      <td>25</td>\n",
       "      <td>1</td>\n",
       "      <td>2</td>\n",
       "      <td>7.6</td>\n",
       "      <td>'Maltese'</td>\n",
       "      <td>Alia</td>\n",
       "      <td>5</td>\n",
       "      <td>5</td>\n",
       "      <td>1883.28</td>\n",
       "      <td>76.1</td>\n",
       "      <td>28324</td>\n",
       "      <td>Ukraine</td>\n",
       "      <td>UA</td>\n",
       "      <td>EU</td>\n",
       "    </tr>\n",
       "  </tbody>\n",
       "</table>\n",
       "<p>579 rows × 18 columns</p>\n",
       "</div>"
      ],
      "text/plain": [
       "     User_id First_Name Last_Name  \\\n",
       "0          1       Jane     Bruen   \n",
       "1          2     Eliseo   Trantow   \n",
       "2          3     Oceane    Walter   \n",
       "3          4       Zack    Marvin   \n",
       "4          5      Marco   Kessler   \n",
       "..       ...        ...       ...   \n",
       "595      596      Ethan   Schuppe   \n",
       "596      597     Austin    Legros   \n",
       "597      598      Ilene  Dietrich   \n",
       "598      599    Novella    Becker   \n",
       "599      600    Rodrick   Pacocha   \n",
       "\n",
       "                                               Address  Age  Gender  \\\n",
       "0    5272 Adela Overpass Suite 982\\r\\nRozellacheste...   28       1   \n",
       "1     2506 Mertz Inlet\\r\\nSouth Ezekielshire, OK 56215   12       1   \n",
       "2    9469 Frank Orchard Apt. 685\\r\\nLake Irmastad, ...   64       1   \n",
       "3        982 Susan Manors\\r\\nPort Amiya, UT 97043-2723   38       1   \n",
       "4    671 Troy Isle Suite 459\\r\\nNew Carriemouth, OK...   28       1   \n",
       "..                                                 ...  ...     ...   \n",
       "595      17224 Koelpin Rest\\r\\nTheresiashire, GA 69914   79       2   \n",
       "596         476 Veda View\\r\\nGroverfurt, AK 15766-2282   80       1   \n",
       "597  934 Josianne Inlet\\r\\nLavonnechester, AZ 30057...   74       1   \n",
       "598  76281 Germaine Valley\\r\\nBoscobury, DE 99069-3814   29       2   \n",
       "599           840 Pfeffer Club\\r\\nEast Amiya, MO 28324   25       1   \n",
       "\n",
       "     Rehabilitation  Pet_intimacy       category_name    Pet_Name  log_count  \\\n",
       "0                 2           4.2           'Maltese'      Barney          5   \n",
       "1                 1           1.2  'Golden Retriever'     Juliana          1   \n",
       "2                 2           9.1           'Bulldog'     Sabrina          7   \n",
       "3                 1           8.6   'German Shepherd'     Yasmine          9   \n",
       "4                 1           1.9   'German Shepherd'  Cristopher          4   \n",
       "..              ...           ...                 ...         ...        ...   \n",
       "595               1           8.2           'Bulldog'    Filomena          4   \n",
       "596               2           9.1        'Shi-ba-inu'       Herta          3   \n",
       "597               2           2.8            'Poodle'      Lamont          2   \n",
       "598               2           1.0  'Golden Retriever'       Wendy          7   \n",
       "599               2           7.6           'Maltese'        Alia          5   \n",
       "\n",
       "     com_count  avg_loading  sum_duration Zipcode         Country  \\\n",
       "0            5      2611.97          70.8   14374   United States   \n",
       "1            2      4931.20           4.1   56215     South Korea   \n",
       "2            3      2610.35          59.9   72714   United States   \n",
       "3            8      2727.02         212.3   97043         Ukraine   \n",
       "4            7      4054.30          14.6   61216     South Korea   \n",
       "..         ...          ...           ...     ...             ...   \n",
       "595          5      1971.06          80.3   69914          Brazil   \n",
       "596          7      2113.40          53.9   15766          Brazil   \n",
       "597          5      1083.90           4.3   30057          Taiwan   \n",
       "598          3      2126.39         193.7   99069   United States   \n",
       "599          5      1883.28          76.1   28324         Ukraine   \n",
       "\n",
       "    Country_abbrev Continent  \n",
       "0               US        NA  \n",
       "1               KR        AS  \n",
       "2               US        NA  \n",
       "3               UA        EU  \n",
       "4               KR        AS  \n",
       "..             ...       ...  \n",
       "595             BR        SA  \n",
       "596             BR        SA  \n",
       "597             TW        AS  \n",
       "598             US        NA  \n",
       "599             UA        EU  \n",
       "\n",
       "[579 rows x 18 columns]"
      ]
     },
     "execution_count": 46,
     "metadata": {},
     "output_type": "execute_result"
    }
   ],
   "source": [
    "data"
   ]
  },
  {
   "cell_type": "markdown",
   "id": "31026fd0",
   "metadata": {},
   "source": [
    "## 4. Check for null values"
   ]
  },
  {
   "cell_type": "code",
   "execution_count": 47,
   "id": "960eeec0",
   "metadata": {},
   "outputs": [
    {
     "name": "stdout",
     "output_type": "stream",
     "text": [
      "avg_loading\n",
      "sum_duration\n"
     ]
    }
   ],
   "source": [
    "for c in data.columns:\n",
    "    if data[c].isnull().values.any():\n",
    "        print(c)"
   ]
  },
  {
   "cell_type": "code",
   "execution_count": 48,
   "id": "5af3180f",
   "metadata": {},
   "outputs": [],
   "source": [
    "data = data.dropna()"
   ]
  },
  {
   "cell_type": "code",
   "execution_count": 50,
   "id": "6451355d",
   "metadata": {},
   "outputs": [
    {
     "data": {
      "text/plain": [
       "(575, 18)"
      ]
     },
     "execution_count": 50,
     "metadata": {},
     "output_type": "execute_result"
    }
   ],
   "source": [
    "data.shape"
   ]
  },
  {
   "cell_type": "code",
   "execution_count": 49,
   "id": "045bc3cb",
   "metadata": {},
   "outputs": [],
   "source": [
    "data.to_csv('data.csv')"
   ]
  }
 ],
 "metadata": {
  "kernelspec": {
   "display_name": "Python 3 (ipykernel)",
   "language": "python",
   "name": "python3"
  },
  "language_info": {
   "codemirror_mode": {
    "name": "ipython",
    "version": 3
   },
   "file_extension": ".py",
   "mimetype": "text/x-python",
   "name": "python",
   "nbconvert_exporter": "python",
   "pygments_lexer": "ipython3",
   "version": "3.9.12"
  }
 },
 "nbformat": 4,
 "nbformat_minor": 5
}
